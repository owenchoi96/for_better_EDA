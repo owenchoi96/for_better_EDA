{
 "cells": [
  {
   "cell_type": "code",
   "execution_count": 8,
   "id": "ccf4d2da",
   "metadata": {},
   "outputs": [
    {
     "name": "stdout",
     "output_type": "stream",
     "text": [
      "/Users/wonbinchoi/current_studying/for_better_EDA\r\n"
     ]
    }
   ],
   "source": []
  },
  {
   "cell_type": "code",
   "execution_count": 7,
   "id": "618875b2",
   "metadata": {},
   "outputs": [],
   "source": [
    "# 데이터와 표본분포\n",
    "\n",
    "# 모집단 ==> 표본\n",
    "# 층화표본추출\n",
    "    # 해당 층에 높은 가중치를 주는 표본추출을 통해, 계층마다 동일한 표본 크기를 얻는 방법.\n",
    "    "
   ]
  },
  {
   "cell_type": "markdown",
   "id": "9384c491",
   "metadata": {},
   "source": [
    "**2.3 통계학에서 표본분포**"
   ]
  },
  {
   "cell_type": "code",
   "execution_count": 66,
   "id": "c9cb68fa",
   "metadata": {},
   "outputs": [
    {
     "data": {
      "text/html": [
       "<div>\n",
       "<style scoped>\n",
       "    .dataframe tbody tr th:only-of-type {\n",
       "        vertical-align: middle;\n",
       "    }\n",
       "\n",
       "    .dataframe tbody tr th {\n",
       "        vertical-align: top;\n",
       "    }\n",
       "\n",
       "    .dataframe thead th {\n",
       "        text-align: right;\n",
       "    }\n",
       "</style>\n",
       "<table border=\"1\" class=\"dataframe\">\n",
       "  <thead>\n",
       "    <tr style=\"text-align: right;\">\n",
       "      <th></th>\n",
       "      <th>x</th>\n",
       "    </tr>\n",
       "  </thead>\n",
       "  <tbody>\n",
       "    <tr>\n",
       "      <th>0</th>\n",
       "      <td>67000</td>\n",
       "    </tr>\n",
       "    <tr>\n",
       "      <th>1</th>\n",
       "      <td>52000</td>\n",
       "    </tr>\n",
       "    <tr>\n",
       "      <th>2</th>\n",
       "      <td>100000</td>\n",
       "    </tr>\n",
       "    <tr>\n",
       "      <th>3</th>\n",
       "      <td>78762</td>\n",
       "    </tr>\n",
       "    <tr>\n",
       "      <th>4</th>\n",
       "      <td>37041</td>\n",
       "    </tr>\n",
       "  </tbody>\n",
       "</table>\n",
       "</div>"
      ],
      "text/plain": [
       "        x\n",
       "0   67000\n",
       "1   52000\n",
       "2  100000\n",
       "3   78762\n",
       "4   37041"
      ]
     },
     "execution_count": 66,
     "metadata": {},
     "output_type": "execute_result"
    }
   ],
   "source": [
    "import pandas as pd\n",
    "import seaborn as sns\n",
    "import matplotlib.pyplot as plt\n",
    "%matplotlib inline\n",
    "\n",
    "loans_income = pd.read_csv('/Users/wonbinchoi/current_studying\\\n",
    "/Practical_Statistics_for_Data_Scientists/data/loans_income.csv')\n",
    "loans_income.head()"
   ]
  },
  {
   "cell_type": "code",
   "execution_count": 65,
   "id": "0266b0c5",
   "metadata": {
    "scrolled": false
   },
   "outputs": [
    {
     "data": {
      "text/plain": [
       "<seaborn.axisgrid.FacetGrid at 0x7f8123898d90>"
      ]
     },
     "execution_count": 65,
     "metadata": {},
     "output_type": "execute_result"
    },
    {
     "data": {
      "image/png": "[encoded data removed]",
      "text/plain": [
       "<Figure size 288x432 with 3 Axes>"
      ]
     },
     "metadata": {
      "needs_background": "light"
     },
     "output_type": "display_data"
    }
   ],
   "source": [
    "# 데이터 타입 잘 확인해보기\n",
    "    # 데이터 타입 때문에 그래프 그리는 데 오래걸림. \n",
    "    \n",
    "# 아래 그래프를 통해 알 수 있는 것\n",
    "# ==> 원래의 데이터는 정규분포를 따르지 않으나, 표본통계량은 보통 정규분포를 따르는 것으로 나타남.\n",
    "# ===> 중심 극한 정리. \n",
    "# : 모집단이 정규분포가 아니더라도, 표본 크기가 충분하고 데이터가 정규성을 크게 이탈하지 않는 경우 \n",
    "#   여러 표본에서 추출한 평균은 종 모양의 정규 곡선을 따름. \n",
    "    \n",
    "    \n",
    "sample_data = pd.DataFrame({\n",
    "    'income' : loans_income.sample(1000)['x'].values.tolist(),\n",
    "    'type' : 'Data'\n",
    "})\n",
    "\n",
    "sample_mean_05 = pd.DataFrame({\n",
    "    'income' : [loans_income.sample(5)['x'].mean() for _ in range(1000)],\n",
    "    'type' : 'Mean of 5'\n",
    "})\n",
    "\n",
    "sample_mean_20 = pd.DataFrame({\n",
    "    'income' : [loans_income.sample(20)['x'].mean() for _ in range(1000)],\n",
    "    'type' : 'Mean of 20' \n",
    "})\n",
    "\n",
    "results = pd.concat([sample_data, sample_mean_05, sample_mean_20])\n",
    "\n",
    "g = sns.FacetGrid(results, col='type', col_wrap=1, height=2, aspect=2)\n",
    "g.map(plt.hist, 'income', range=[0,200000], bins=40)\n"
   ]
  },
  {
   "cell_type": "code",
   "execution_count": null,
   "id": "0eb6e39a",
   "metadata": {},
   "outputs": [],
   "source": [
    "# 위의 그래프는 중심 극한 정리 소개를 위한 토대\n",
    "### 부트스트랩으로 표준 표준 오차를 추정할 수 있음. ###"
   ]
  },
  {
   "cell_type": "markdown",
   "id": "3bfae4ed",
   "metadata": {},
   "source": [
    "***2.4 부트스트랩***"
   ]
  },
  {
   "cell_type": "code",
   "execution_count": null,
   "id": "6287613a",
   "metadata": {},
   "outputs": [],
   "source": [
    "\"\"\"\n",
    "애초에 한 개 밖에 없던 우리들의 smaple data set를 \n",
    "n개의 sample data set를 가지고 있는 것과 같은\n",
    "효과를 누릴 수 있게 도와줌.\n",
    "\n",
    "즉, 원래 데이터셋으로부터 랜덤 샘플리을 통해 Training Data를 늘리는 방법\n",
    "==> 데이터 양을 늘릴 수 있고 분포를 다르게 만들 수 있음.\n",
    "\n",
    "이를 통해 나오는 것이 Bagging과 Boosting.\n",
    "\n",
    "\n",
    "책에서의 정의 : 모집단에서 추가적으로 표본을 뽑는다고 할 때,\n",
    "그 표본이 얼마나 원래 표본과 비슷할지 알려줌. \n",
    "\n",
    "부트 스트래핑은 복원 추출이고,\n",
    "재표본추출은 비복원 추출. \n",
    "\"\"\""
   ]
  },
  {
   "cell_type": "markdown",
   "id": "902e7c21",
   "metadata": {},
   "source": [
    "***2.6 정규 분포***"
   ]
  },
  {
   "cell_type": "code",
   "execution_count": 90,
   "id": "18064afd",
   "metadata": {},
   "outputs": [
    {
     "data": {
      "image/png": "[encoded data removed]",
      "text/plain": [
       "<Figure size 288x288 with 1 Axes>"
      ]
     },
     "metadata": {
      "needs_background": "light"
     },
     "output_type": "display_data"
    }
   ],
   "source": [
    "# 정규분포 그리기\n",
    "from scipy import stats\n",
    "fig, ax = plt.subplots(figsize=(4,4))\n",
    "norm_sample = stats.norm.rvs(size=100)\n",
    "stats.probplot(norm_sample, plot=ax);"
   ]
  },
  {
   "cell_type": "code",
   "execution_count": 94,
   "id": "62c5982a",
   "metadata": {},
   "outputs": [
    {
     "data": {
      "text/plain": [
       "0       0.000000\n",
       "1       0.000000\n",
       "2       0.000000\n",
       "3       0.000000\n",
       "4       0.000000\n",
       "          ...   \n",
       "5642   -0.590004\n",
       "5643   -2.211433\n",
       "5644    0.725716\n",
       "5645    0.491432\n",
       "5646   -1.170006\n",
       "Name: NFLX, Length: 5647, dtype: float64"
      ]
     },
     "execution_count": 94,
     "metadata": {},
     "output_type": "execute_result"
    }
   ],
   "source": [
    "nflx = pd.read_csv('/Users/wonbinchoi/current_studying/Practical_Statistics_for_Data_Scientists/data/sp500_data.csv.gz').NFLX"
   ]
  },
  {
   "cell_type": "code",
   "execution_count": 103,
   "id": "2e5ac440",
   "metadata": {},
   "outputs": [
    {
     "data": {
      "image/png": "[encoded data removed]",
      "text/plain": [
       "<Figure size 288x288 with 1 Axes>"
      ]
     },
     "metadata": {
      "needs_background": "light"
     },
     "output_type": "display_data"
    }
   ],
   "source": [
    "nlfx = np.diff(np.log(nflx[nflx>0]))\n",
    "fig, ax = plt.subplots(figsize=(4,4))\n",
    "stats.probplot(nflx, plot=ax)\n",
    "plt.show()"
   ]
  },
  {
   "cell_type": "markdown",
   "id": "bffe34c6",
   "metadata": {},
   "source": [
    "***2.12.1 푸아송 분포***"
   ]
  },
  {
   "cell_type": "code",
   "execution_count": 119,
   "id": "8c588771",
   "metadata": {},
   "outputs": [
    {
     "data": {
      "text/plain": [
       "array([1, 0, 0, 1, 3, 3, 2, 4, 1, 4, 1, 1, 2, 0, 3, 3, 2, 4, 1, 0, 4, 1,\n",
       "       3, 3, 0, 3, 1, 3, 2, 0, 4, 4, 4, 1, 1, 4, 2, 3, 3, 3, 3, 2, 0, 2,\n",
       "       1, 2, 1, 0, 2, 1, 0, 2, 6, 0, 0, 2, 3, 0, 3, 4, 3, 4, 2, 3, 1, 1,\n",
       "       0, 1, 1, 2, 2, 3, 1, 2, 2, 3, 2, 2, 1, 4, 1, 4, 2, 4, 1, 1, 4, 3,\n",
       "       4, 3, 2, 0, 3, 2, 2, 2, 3, 2, 2, 2])"
      ]
     },
     "execution_count": 119,
     "metadata": {},
     "output_type": "execute_result"
    }
   ],
   "source": [
    "# 시간 단위 혹은 공간 단위에서의 평균적인 사건의 수\n",
    "# ==> 시간별 혹은 공간별로 사건 발생이 얼마나 다른지 알고 싶을 때\n",
    "# 푸아송 분포는 시간 단위 또는 공간 단위로 표본들을 수집할 때, 그 사건들의 분포를 알려줌. \n",
    "\n",
    "# 핵심 파라미터 ==> 람다 : 어떤 일정 시간/공간의 구간 안에서 발생한 평균 사건 수를 의미. \n",
    "# 분산 역시 람다. \n",
    "from scipy import stats\n",
    "stats.poisson.rvs(2, size=100)\n",
    "\n",
    "# ex) 고객 서비스 센터에 1분당 평균 2회로 문의 전화가 접수된다면\n",
    "# 이 코드는 100분을 시뮬레이션하여 100분당 문의 전화 횟수를 알려줌. "
   ]
  },
  {
   "cell_type": "markdown",
   "id": "5f1d629f",
   "metadata": {},
   "source": [
    "***2.12.2 지수분포***"
   ]
  },
  {
   "cell_type": "code",
   "execution_count": 129,
   "id": "d2307d37",
   "metadata": {},
   "outputs": [
    {
     "data": {
      "text/plain": [
       "[<matplotlib.lines.Line2D at 0x7f81157250d0>]"
      ]
     },
     "execution_count": 129,
     "metadata": {},
     "output_type": "execute_result"
    },
    {
     "data": {
      "image/png": "[encoded data removed]",
      "text/plain": [
       "<Figure size 432x288 with 1 Axes>"
      ]
     },
     "metadata": {
      "needs_background": "light"
     },
     "output_type": "display_data"
    }
   ],
   "source": [
    "# 푸아송 분포에 사용된 것과 동일한 변수를 사용하여 사건과 사건 간의 시간 분포를 모델링. \n",
    "\n",
    "\n",
    "from scipy import stats\n",
    "plt.plot(stats.expon.rvs(scale=1/0.2, size=100))\n",
    "plt.plot(stats.expon.rvs(scale=5, size=100))"
   ]
  },
  {
   "cell_type": "markdown",
   "id": "f23ade48",
   "metadata": {},
   "source": [
    "***2.12.4 베이풀 분포***"
   ]
  },
  {
   "cell_type": "code",
   "execution_count": 131,
   "id": "a0bc1d46",
   "metadata": {},
   "outputs": [
    {
     "data": {
      "text/plain": [
       "array([10251.48139402,  2205.94934762,  5632.62676075,  7654.28945678,\n",
       "        8518.70755816,  2003.26124191,  8377.20115488,   876.18664777,\n",
       "        5381.95397436,   353.41625642,  5737.16563269,  3576.20435168,\n",
       "       11867.65882915,  2822.12439619,    51.46466597,  3105.17798226,\n",
       "        2776.69105233,  5439.70586445,  6028.44916846,  1480.38587903,\n",
       "        4394.18202048,  1706.82848441,  5171.98025783,  3745.15527575,\n",
       "        4130.08558636,  5966.23608663,  4320.58842612,  1642.80737612,\n",
       "        2081.92551567,  9398.43672585,  4221.7115961 ,  3634.94688296,\n",
       "        5522.12415765,  3415.26998404,  3736.04327295,  8062.7074403 ,\n",
       "        6289.4315365 ,  6180.48105236,  3172.56436988,  5734.12941919,\n",
       "        2754.18354757,  1605.85921136,  5709.52199702,  8498.07157854,\n",
       "        3201.05623695,  2218.76736219,  4929.00014326,  5061.27905391,\n",
       "        3028.36037037,   682.10293178,  4897.20923113,  2091.05276032,\n",
       "        3944.45236368,  1861.49365645,  2652.87701211,  6448.77802267,\n",
       "        2470.8866346 ,  3920.26867388,  6325.14497481,  3437.55210659,\n",
       "       10065.14944875,  3226.87700157,  3927.66062947,  3272.80451493,\n",
       "        8236.71872755,  3676.87177598,  1154.01627675,  7992.55396729,\n",
       "        4368.28872561,  4566.54565276,  2407.79036774,  6955.02047561,\n",
       "        2934.58980656,  3206.34103983,  8618.74873723, 11128.80000934,\n",
       "        1478.72667269,  1841.08758398,  8541.42958552,  1954.66004497,\n",
       "        4454.52986233, 14252.82439464,  8160.08705488,  1863.8677303 ,\n",
       "        3644.38905754,  7098.6933735 , 15531.58969532,  2826.44922944,\n",
       "         956.51565861,  1955.98529671,  1304.51089666,  4672.81806966,\n",
       "        3928.607193  ,  2251.43245456,  3401.49610765,  1975.87427899,\n",
       "        2246.56235983,   640.64921489,  3355.1006965 ,  2929.57920811])"
      ]
     },
     "execution_count": 131,
     "metadata": {},
     "output_type": "execute_result"
    }
   ],
   "source": [
    "# 시간에 따라 변화하는 사건 발생률(예를 들어 증가하는 고정률)은 베이풀 분포로 모델링할 수 있다. \n",
    "from scipy import stats\n",
    "stats.weibull_min.rvs(1.5, scale=5000, size=100)"
   ]
  },
  {
   "cell_type": "code",
   "execution_count": null,
   "id": "5ca3b223",
   "metadata": {},
   "outputs": [],
   "source": []
  },
  {
   "cell_type": "code",
   "execution_count": null,
   "id": "153a1081",
   "metadata": {},
   "outputs": [],
   "source": []
  },
  {
   "cell_type": "code",
   "execution_count": null,
   "id": "ddd76d56",
   "metadata": {},
   "outputs": [],
   "source": []
  },
  {
   "cell_type": "code",
   "execution_count": null,
   "id": "1961f3bb",
   "metadata": {},
   "outputs": [],
   "source": []
  },
  {
   "cell_type": "code",
   "execution_count": null,
   "id": "7342c1f4",
   "metadata": {},
   "outputs": [],
   "source": []
  },
  {
   "cell_type": "code",
   "execution_count": null,
   "id": "400ce4f6",
   "metadata": {},
   "outputs": [],
   "source": []
  },
  {
   "cell_type": "code",
   "execution_count": null,
   "id": "d24d09a8",
   "metadata": {},
   "outputs": [],
   "source": []
  },
  {
   "cell_type": "code",
   "execution_count": null,
   "id": "c03a03c6",
   "metadata": {},
   "outputs": [],
   "source": []
  },
  {
   "cell_type": "code",
   "execution_count": null,
   "id": "e64824a3",
   "metadata": {},
   "outputs": [],
   "source": []
  },
  {
   "cell_type": "code",
   "execution_count": null,
   "id": "aefa2835",
   "metadata": {},
   "outputs": [],
   "source": []
  },
  {
   "cell_type": "code",
   "execution_count": null,
   "id": "dae44178",
   "metadata": {},
   "outputs": [],
   "source": []
  },
  {
   "cell_type": "code",
   "execution_count": null,
   "id": "70977d7f",
   "metadata": {},
   "outputs": [],
   "source": []
  },
  {
   "cell_type": "code",
   "execution_count": null,
   "id": "12778298",
   "metadata": {},
   "outputs": [],
   "source": []
  },
  {
   "cell_type": "code",
   "execution_count": null,
   "id": "f73fb532",
   "metadata": {},
   "outputs": [],
   "source": []
  },
  {
   "cell_type": "code",
   "execution_count": null,
   "id": "7ca9bc1a",
   "metadata": {},
   "outputs": [],
   "source": []
  },
  {
   "cell_type": "code",
   "execution_count": null,
   "id": "3d7bac2c",
   "metadata": {},
   "outputs": [],
   "source": []
  },
  {
   "cell_type": "code",
   "execution_count": null,
   "id": "f2fe736d",
   "metadata": {},
   "outputs": [],
   "source": []
  }
 ],
 "metadata": {
  "kernelspec": {
   "display_name": "Python 3 (ipykernel)",
   "language": "python",
   "name": "python3"
  },
  "language_info": {
   "codemirror_mode": {
    "name": "ipython",
    "version": 3
   },
   "file_extension": ".py",
   "mimetype": "text/x-python",
   "name": "python",
   "nbconvert_exporter": "python",
   "pygments_lexer": "ipython3",
   "version": "3.9.12"
  },
  "toc": {
   "base_numbering": 1,
   "nav_menu": {},
   "number_sections": true,
   "sideBar": true,
   "skip_h1_title": false,
   "title_cell": "Table of Contents",
   "title_sidebar": "Contents",
   "toc_cell": false,
   "toc_position": {},
   "toc_section_display": true,
   "toc_window_display": false
  },
  "varInspector": {
   "cols": {
    "lenName": 16,
    "lenType": 16,
    "lenVar": 40
   },
   "kernels_config": {
    "python": {
     "delete_cmd_postfix": "",
     "delete_cmd_prefix": "del ",
     "library": "var_list.py",
     "varRefreshCmd": "print(var_dic_list())"
    },
    "r": {
     "delete_cmd_postfix": ") ",
     "delete_cmd_prefix": "rm(",
     "library": "var_list.r",
     "varRefreshCmd": "cat(var_dic_list()) "
    }
   },
   "types_to_exclude": [
    "module",
    "function",
    "builtin_function_or_method",
    "instance",
    "_Feature"
   ],
   "window_display": false
  }
 },
 "nbformat": 4,
 "nbformat_minor": 5
}
