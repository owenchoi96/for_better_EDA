{
 "cells": [
  {
   "cell_type": "code",
   "execution_count": null,
   "id": "18495d7e",
   "metadata": {},
   "outputs": [],
   "source": [
    "# 회귀와 예측\n",
    "# 회귀 진단은 원래 데이터 분석을 위해 개발되었고, 이것이 발전하면서 비정상적인 데이터를\n",
    "# 검출하는 데도 사용되고 있다.  (이상 검출 영역)\n"
   ]
  },
  {
   "cell_type": "markdown",
   "id": "777d3fbd",
   "metadata": {},
   "source": [
    "***4.1.1. 회귀식***"
   ]
  },
  {
   "cell_type": "code",
   "execution_count": 2,
   "id": "d106f31a",
   "metadata": {},
   "outputs": [],
   "source": [
    "import pandas as pd\n",
    "lung = pd.read_csv('/Users/wonbinchoi/current_studying/Practical_Statistics_for_Data_Scientists/data/LungDisease.csv')"
   ]
  },
  {
   "cell_type": "code",
   "execution_count": 6,
   "id": "619dab1d",
   "metadata": {},
   "outputs": [
    {
     "name": "stdout",
     "output_type": "stream",
     "text": [
      "Intercept: 424.583\n",
      "Coefficient Exposure: -4.185\n"
     ]
    }
   ],
   "source": [
    "from sklearn.linear_model import LinearRegression\n",
    "predictors = ['Exposure']\n",
    "outcome = 'PEFR'\n",
    "\n",
    "model = LinearRegression()\n",
    "model.fit(lung[predictors], lung[outcome])\n",
    "\n",
    "print(f\"Intercept: {model.intercept_:.3f}\")\n",
    "print(f\"Coefficient Exposure: {model.coef_[0]:.3f}\")\n"
   ]
  },
  {
   "cell_type": "code",
   "execution_count": 10,
   "id": "1aa77bb1",
   "metadata": {},
   "outputs": [],
   "source": [
    "fitted = model.predict(lung[predictors]) # 예측값\n",
    "residuals = lung[outcome] - fitted\n"
   ]
  },
  {
   "cell_type": "code",
   "execution_count": 142,
   "id": "142ad031",
   "metadata": {},
   "outputs": [
    {
     "data": {
      "text/html": [
       "<div>\n",
       "<style scoped>\n",
       "    .dataframe tbody tr th:only-of-type {\n",
       "        vertical-align: middle;\n",
       "    }\n",
       "\n",
       "    .dataframe tbody tr th {\n",
       "        vertical-align: top;\n",
       "    }\n",
       "\n",
       "    .dataframe thead th {\n",
       "        text-align: right;\n",
       "    }\n",
       "</style>\n",
       "<table border=\"1\" class=\"dataframe\">\n",
       "  <thead>\n",
       "    <tr style=\"text-align: right;\">\n",
       "      <th></th>\n",
       "      <th>AdjSalePrice</th>\n",
       "      <th>SqFtTotLiving</th>\n",
       "      <th>SqFtLot</th>\n",
       "      <th>Bathrooms</th>\n",
       "      <th>Bedrooms</th>\n",
       "      <th>BldgGrade</th>\n",
       "    </tr>\n",
       "  </thead>\n",
       "  <tbody>\n",
       "    <tr>\n",
       "      <th>1</th>\n",
       "      <td>300805.0</td>\n",
       "      <td>2400</td>\n",
       "      <td>9373</td>\n",
       "      <td>3.00</td>\n",
       "      <td>6</td>\n",
       "      <td>7</td>\n",
       "    </tr>\n",
       "    <tr>\n",
       "      <th>2</th>\n",
       "      <td>1076162.0</td>\n",
       "      <td>3764</td>\n",
       "      <td>20156</td>\n",
       "      <td>3.75</td>\n",
       "      <td>4</td>\n",
       "      <td>10</td>\n",
       "    </tr>\n",
       "    <tr>\n",
       "      <th>3</th>\n",
       "      <td>761805.0</td>\n",
       "      <td>2060</td>\n",
       "      <td>26036</td>\n",
       "      <td>1.75</td>\n",
       "      <td>4</td>\n",
       "      <td>8</td>\n",
       "    </tr>\n",
       "    <tr>\n",
       "      <th>4</th>\n",
       "      <td>442065.0</td>\n",
       "      <td>3200</td>\n",
       "      <td>8618</td>\n",
       "      <td>3.75</td>\n",
       "      <td>5</td>\n",
       "      <td>7</td>\n",
       "    </tr>\n",
       "    <tr>\n",
       "      <th>5</th>\n",
       "      <td>297065.0</td>\n",
       "      <td>1720</td>\n",
       "      <td>8620</td>\n",
       "      <td>1.75</td>\n",
       "      <td>4</td>\n",
       "      <td>7</td>\n",
       "    </tr>\n",
       "    <tr>\n",
       "      <th>...</th>\n",
       "      <td>...</td>\n",
       "      <td>...</td>\n",
       "      <td>...</td>\n",
       "      <td>...</td>\n",
       "      <td>...</td>\n",
       "      <td>...</td>\n",
       "    </tr>\n",
       "    <tr>\n",
       "      <th>27057</th>\n",
       "      <td>443803.0</td>\n",
       "      <td>1480</td>\n",
       "      <td>5468</td>\n",
       "      <td>1.75</td>\n",
       "      <td>3</td>\n",
       "      <td>7</td>\n",
       "    </tr>\n",
       "    <tr>\n",
       "      <th>27058</th>\n",
       "      <td>1586196.0</td>\n",
       "      <td>4720</td>\n",
       "      <td>23914</td>\n",
       "      <td>4.50</td>\n",
       "      <td>4</td>\n",
       "      <td>11</td>\n",
       "    </tr>\n",
       "    <tr>\n",
       "      <th>27061</th>\n",
       "      <td>220744.0</td>\n",
       "      <td>1070</td>\n",
       "      <td>11170</td>\n",
       "      <td>1.00</td>\n",
       "      <td>4</td>\n",
       "      <td>6</td>\n",
       "    </tr>\n",
       "    <tr>\n",
       "      <th>27062</th>\n",
       "      <td>342207.0</td>\n",
       "      <td>1345</td>\n",
       "      <td>6223</td>\n",
       "      <td>2.00</td>\n",
       "      <td>3</td>\n",
       "      <td>7</td>\n",
       "    </tr>\n",
       "    <tr>\n",
       "      <th>27063</th>\n",
       "      <td>475489.0</td>\n",
       "      <td>790</td>\n",
       "      <td>4400</td>\n",
       "      <td>1.50</td>\n",
       "      <td>3</td>\n",
       "      <td>7</td>\n",
       "    </tr>\n",
       "  </tbody>\n",
       "</table>\n",
       "<p>22687 rows × 6 columns</p>\n",
       "</div>"
      ],
      "text/plain": [
       "       AdjSalePrice  SqFtTotLiving  SqFtLot  Bathrooms  Bedrooms  BldgGrade\n",
       "1          300805.0           2400     9373       3.00         6          7\n",
       "2         1076162.0           3764    20156       3.75         4         10\n",
       "3          761805.0           2060    26036       1.75         4          8\n",
       "4          442065.0           3200     8618       3.75         5          7\n",
       "5          297065.0           1720     8620       1.75         4          7\n",
       "...             ...            ...      ...        ...       ...        ...\n",
       "27057      443803.0           1480     5468       1.75         3          7\n",
       "27058     1586196.0           4720    23914       4.50         4         11\n",
       "27061      220744.0           1070    11170       1.00         4          6\n",
       "27062      342207.0           1345     6223       2.00         3          7\n",
       "27063      475489.0            790     4400       1.50         3          7\n",
       "\n",
       "[22687 rows x 6 columns]"
      ]
     },
     "execution_count": 142,
     "metadata": {},
     "output_type": "execute_result"
    }
   ],
   "source": [
    "house = pd.read_csv('/Users/wonbinchoi/current_studying/Practical_Statistics_for_Data_Scientists/data/house_sales.csv', sep='\\t')\n",
    "columns = ['AdjSalePrice', 'SqFtTotLiving', 'SqFtLot', 'Bathrooms', 'Bedrooms', 'BldgGrade']\n",
    "house[columns]"
   ]
  },
  {
   "cell_type": "code",
   "execution_count": 25,
   "id": "e943ea21",
   "metadata": {},
   "outputs": [
    {
     "data": {
      "text/html": [
       "<style>#sk-container-id-2 {color: black;background-color: white;}#sk-container-id-2 pre{padding: 0;}#sk-container-id-2 div.sk-toggleable {background-color: white;}#sk-container-id-2 label.sk-toggleable__label {cursor: pointer;display: block;width: 100%;margin-bottom: 0;padding: 0.3em;box-sizing: border-box;text-align: center;}#sk-container-id-2 label.sk-toggleable__label-arrow:before {content: \"▸\";float: left;margin-right: 0.25em;color: #696969;}#sk-container-id-2 label.sk-toggleable__label-arrow:hover:before {color: black;}#sk-container-id-2 div.sk-estimator:hover label.sk-toggleable__label-arrow:before {color: black;}#sk-container-id-2 div.sk-toggleable__content {max-height: 0;max-width: 0;overflow: hidden;text-align: left;background-color: #f0f8ff;}#sk-container-id-2 div.sk-toggleable__content pre {margin: 0.2em;color: black;border-radius: 0.25em;background-color: #f0f8ff;}#sk-container-id-2 input.sk-toggleable__control:checked~div.sk-toggleable__content {max-height: 200px;max-width: 100%;overflow: auto;}#sk-container-id-2 input.sk-toggleable__control:checked~label.sk-toggleable__label-arrow:before {content: \"▾\";}#sk-container-id-2 div.sk-estimator input.sk-toggleable__control:checked~label.sk-toggleable__label {background-color: #d4ebff;}#sk-container-id-2 div.sk-label input.sk-toggleable__control:checked~label.sk-toggleable__label {background-color: #d4ebff;}#sk-container-id-2 input.sk-hidden--visually {border: 0;clip: rect(1px 1px 1px 1px);clip: rect(1px, 1px, 1px, 1px);height: 1px;margin: -1px;overflow: hidden;padding: 0;position: absolute;width: 1px;}#sk-container-id-2 div.sk-estimator {font-family: monospace;background-color: #f0f8ff;border: 1px dotted black;border-radius: 0.25em;box-sizing: border-box;margin-bottom: 0.5em;}#sk-container-id-2 div.sk-estimator:hover {background-color: #d4ebff;}#sk-container-id-2 div.sk-parallel-item::after {content: \"\";width: 100%;border-bottom: 1px solid gray;flex-grow: 1;}#sk-container-id-2 div.sk-label:hover label.sk-toggleable__label {background-color: #d4ebff;}#sk-container-id-2 div.sk-serial::before {content: \"\";position: absolute;border-left: 1px solid gray;box-sizing: border-box;top: 0;bottom: 0;left: 50%;z-index: 0;}#sk-container-id-2 div.sk-serial {display: flex;flex-direction: column;align-items: center;background-color: white;padding-right: 0.2em;padding-left: 0.2em;position: relative;}#sk-container-id-2 div.sk-item {position: relative;z-index: 1;}#sk-container-id-2 div.sk-parallel {display: flex;align-items: stretch;justify-content: center;background-color: white;position: relative;}#sk-container-id-2 div.sk-item::before, #sk-container-id-2 div.sk-parallel-item::before {content: \"\";position: absolute;border-left: 1px solid gray;box-sizing: border-box;top: 0;bottom: 0;left: 50%;z-index: -1;}#sk-container-id-2 div.sk-parallel-item {display: flex;flex-direction: column;z-index: 1;position: relative;background-color: white;}#sk-container-id-2 div.sk-parallel-item:first-child::after {align-self: flex-end;width: 50%;}#sk-container-id-2 div.sk-parallel-item:last-child::after {align-self: flex-start;width: 50%;}#sk-container-id-2 div.sk-parallel-item:only-child::after {width: 0;}#sk-container-id-2 div.sk-dashed-wrapped {border: 1px dashed gray;margin: 0 0.4em 0.5em 0.4em;box-sizing: border-box;padding-bottom: 0.4em;background-color: white;}#sk-container-id-2 div.sk-label label {font-family: monospace;font-weight: bold;display: inline-block;line-height: 1.2em;}#sk-container-id-2 div.sk-label-container {text-align: center;}#sk-container-id-2 div.sk-container {/* jupyter's `normalize.less` sets `[hidden] { display: none; }` but bootstrap.min.css set `[hidden] { display: none !important; }` so we also need the `!important` here to be able to override the default hidden behavior on the sphinx rendered scikit-learn.org. See: https://github.com/scikit-learn/scikit-learn/issues/21755 */display: inline-block !important;position: relative;}#sk-container-id-2 div.sk-text-repr-fallback {display: none;}</style><div id=\"sk-container-id-2\" class=\"sk-top-container\"><div class=\"sk-text-repr-fallback\"><pre>LinearRegression()</pre><b>In a Jupyter environment, please rerun this cell to show the HTML representation or trust the notebook. <br />On GitHub, the HTML representation is unable to render, please try loading this page with nbviewer.org.</b></div><div class=\"sk-container\" hidden><div class=\"sk-item\"><div class=\"sk-estimator sk-toggleable\"><input class=\"sk-toggleable__control sk-hidden--visually\" id=\"sk-estimator-id-2\" type=\"checkbox\" checked><label for=\"sk-estimator-id-2\" class=\"sk-toggleable__label sk-toggleable__label-arrow\">LinearRegression</label><div class=\"sk-toggleable__content\"><pre>LinearRegression()</pre></div></div></div></div></div>"
      ],
      "text/plain": [
       "LinearRegression()"
      ]
     },
     "execution_count": 25,
     "metadata": {},
     "output_type": "execute_result"
    }
   ],
   "source": [
    "from sklearn.linear_model import LinearRegression\n",
    "outcome = 'AdjSalePrice'\n",
    "predictors = ['SqFtTotLiving', 'SqFtLot', 'Bathrooms', 'Bedrooms', 'BldgGrade']\n",
    "\n",
    "house_lm = LinearRegression()\n",
    "house_lm.fit(house[predictors], house[outcome])"
   ]
  },
  {
   "cell_type": "code",
   "execution_count": 26,
   "id": "08eb520a",
   "metadata": {},
   "outputs": [
    {
     "name": "stdout",
     "output_type": "stream",
     "text": [
      "intercept : -521871.368188284\n",
      "\n",
      "coefficients : \n",
      "SqFtTotLiving : 228.8306036024083\n",
      "SqFtLot : -0.0604668206530512\n",
      "Bathrooms : -19442.840398320997\n",
      "Bedrooms : -47769.955185214465\n",
      "BldgGrade : 106106.96307898074\n"
     ]
    }
   ],
   "source": [
    "print('intercept :', lm_model.intercept_)\n",
    "print('\\ncoefficients : ')\n",
    "for name, coef in zip(predictors, house_lm.coef_):\n",
    "    print (f\"{name} : {coef}\")"
   ]
  },
  {
   "cell_type": "markdown",
   "id": "7b888884",
   "metadata": {},
   "source": [
    "***4.2.2 모형평가***"
   ]
  },
  {
   "cell_type": "code",
   "execution_count": 27,
   "id": "cc04431a",
   "metadata": {},
   "outputs": [
    {
     "name": "stdout",
     "output_type": "stream",
     "text": [
      "RMSE :  261220.19743696266\n",
      "r2 score :  0.5405875253381902\n"
     ]
    }
   ],
   "source": [
    "from sklearn.metrics import mean_squared_error, r2_score\n",
    "\n",
    "fitted = house_lm.predict(house[predictors])\n",
    "RMSE = np.sqrt(mean_squared_error(house[outcome], fitted))\n",
    "r2 = r2_score(house[outcome], fitted)\n",
    "print('RMSE : ', RMSE)\n",
    "print('r2 score : ', r2)"
   ]
  },
  {
   "cell_type": "code",
   "execution_count": 30,
   "id": "87ed5497",
   "metadata": {
    "scrolled": true
   },
   "outputs": [
    {
     "data": {
      "text/html": [
       "<table class=\"simpletable\">\n",
       "<caption>OLS Regression Results</caption>\n",
       "<tr>\n",
       "  <th>Dep. Variable:</th>      <td>AdjSalePrice</td>   <th>  R-squared:         </th>  <td>   0.541</td>  \n",
       "</tr>\n",
       "<tr>\n",
       "  <th>Model:</th>                   <td>OLS</td>       <th>  Adj. R-squared:    </th>  <td>   0.540</td>  \n",
       "</tr>\n",
       "<tr>\n",
       "  <th>Method:</th>             <td>Least Squares</td>  <th>  F-statistic:       </th>  <td>   5338.</td>  \n",
       "</tr>\n",
       "<tr>\n",
       "  <th>Date:</th>             <td>Thu, 30 Mar 2023</td> <th>  Prob (F-statistic):</th>   <td>  0.00</td>   \n",
       "</tr>\n",
       "<tr>\n",
       "  <th>Time:</th>                 <td>19:58:02</td>     <th>  Log-Likelihood:    </th> <td>-3.1517e+05</td>\n",
       "</tr>\n",
       "<tr>\n",
       "  <th>No. Observations:</th>      <td> 22687</td>      <th>  AIC:               </th>  <td>6.304e+05</td> \n",
       "</tr>\n",
       "<tr>\n",
       "  <th>Df Residuals:</th>          <td> 22681</td>      <th>  BIC:               </th>  <td>6.304e+05</td> \n",
       "</tr>\n",
       "<tr>\n",
       "  <th>Df Model:</th>              <td>     5</td>      <th>                     </th>      <td> </td>     \n",
       "</tr>\n",
       "<tr>\n",
       "  <th>Covariance Type:</th>      <td>nonrobust</td>    <th>                     </th>      <td> </td>     \n",
       "</tr>\n",
       "</table>\n",
       "<table class=\"simpletable\">\n",
       "<tr>\n",
       "        <td></td>           <th>coef</th>     <th>std err</th>      <th>t</th>      <th>P>|t|</th>  <th>[0.025</th>    <th>0.975]</th>  \n",
       "</tr>\n",
       "<tr>\n",
       "  <th>SqFtTotLiving</th> <td>  228.8306</td> <td>    3.899</td> <td>   58.694</td> <td> 0.000</td> <td>  221.189</td> <td>  236.472</td>\n",
       "</tr>\n",
       "<tr>\n",
       "  <th>SqFtLot</th>       <td>   -0.0605</td> <td>    0.061</td> <td>   -0.988</td> <td> 0.323</td> <td>   -0.180</td> <td>    0.059</td>\n",
       "</tr>\n",
       "<tr>\n",
       "  <th>Bathrooms</th>     <td>-1.944e+04</td> <td> 3625.388</td> <td>   -5.363</td> <td> 0.000</td> <td>-2.65e+04</td> <td>-1.23e+04</td>\n",
       "</tr>\n",
       "<tr>\n",
       "  <th>Bedrooms</th>      <td>-4.777e+04</td> <td> 2489.732</td> <td>  -19.187</td> <td> 0.000</td> <td>-5.27e+04</td> <td>-4.29e+04</td>\n",
       "</tr>\n",
       "<tr>\n",
       "  <th>BldgGrade</th>     <td> 1.061e+05</td> <td> 2396.445</td> <td>   44.277</td> <td> 0.000</td> <td> 1.01e+05</td> <td> 1.11e+05</td>\n",
       "</tr>\n",
       "<tr>\n",
       "  <th>const</th>         <td>-5.219e+05</td> <td> 1.57e+04</td> <td>  -33.342</td> <td> 0.000</td> <td>-5.53e+05</td> <td>-4.91e+05</td>\n",
       "</tr>\n",
       "</table>\n",
       "<table class=\"simpletable\">\n",
       "<tr>\n",
       "  <th>Omnibus:</th>       <td>29676.557</td> <th>  Durbin-Watson:     </th>   <td>   1.247</td>  \n",
       "</tr>\n",
       "<tr>\n",
       "  <th>Prob(Omnibus):</th>  <td> 0.000</td>   <th>  Jarque-Bera (JB):  </th> <td>19390738.346</td>\n",
       "</tr>\n",
       "<tr>\n",
       "  <th>Skew:</th>           <td> 6.889</td>   <th>  Prob(JB):          </th>   <td>    0.00</td>  \n",
       "</tr>\n",
       "<tr>\n",
       "  <th>Kurtosis:</th>       <td>145.559</td>  <th>  Cond. No.          </th>   <td>2.86e+05</td>  \n",
       "</tr>\n",
       "</table><br/><br/>Notes:<br/>[1] Standard Errors assume that the covariance matrix of the errors is correctly specified.<br/>[2] The condition number is large, 2.86e+05. This might indicate that there are<br/>strong multicollinearity or other numerical problems."
      ],
      "text/plain": [
       "<class 'statsmodels.iolib.summary.Summary'>\n",
       "\"\"\"\n",
       "                            OLS Regression Results                            \n",
       "==============================================================================\n",
       "Dep. Variable:           AdjSalePrice   R-squared:                       0.541\n",
       "Model:                            OLS   Adj. R-squared:                  0.540\n",
       "Method:                 Least Squares   F-statistic:                     5338.\n",
       "Date:                Thu, 30 Mar 2023   Prob (F-statistic):               0.00\n",
       "Time:                        19:58:02   Log-Likelihood:            -3.1517e+05\n",
       "No. Observations:               22687   AIC:                         6.304e+05\n",
       "Df Residuals:                   22681   BIC:                         6.304e+05\n",
       "Df Model:                           5                                         \n",
       "Covariance Type:            nonrobust                                         \n",
       "=================================================================================\n",
       "                    coef    std err          t      P>|t|      [0.025      0.975]\n",
       "---------------------------------------------------------------------------------\n",
       "SqFtTotLiving   228.8306      3.899     58.694      0.000     221.189     236.472\n",
       "SqFtLot          -0.0605      0.061     -0.988      0.323      -0.180       0.059\n",
       "Bathrooms     -1.944e+04   3625.388     -5.363      0.000   -2.65e+04   -1.23e+04\n",
       "Bedrooms      -4.777e+04   2489.732    -19.187      0.000   -5.27e+04   -4.29e+04\n",
       "BldgGrade      1.061e+05   2396.445     44.277      0.000    1.01e+05    1.11e+05\n",
       "const         -5.219e+05   1.57e+04    -33.342      0.000   -5.53e+05   -4.91e+05\n",
       "==============================================================================\n",
       "Omnibus:                    29676.557   Durbin-Watson:                   1.247\n",
       "Prob(Omnibus):                  0.000   Jarque-Bera (JB):         19390738.346\n",
       "Skew:                           6.889   Prob(JB):                         0.00\n",
       "Kurtosis:                     145.559   Cond. No.                     2.86e+05\n",
       "==============================================================================\n",
       "\n",
       "Notes:\n",
       "[1] Standard Errors assume that the covariance matrix of the errors is correctly specified.\n",
       "[2] The condition number is large, 2.86e+05. This might indicate that there are\n",
       "strong multicollinearity or other numerical problems.\n",
       "\"\"\""
      ]
     },
     "execution_count": 30,
     "metadata": {},
     "output_type": "execute_result"
    }
   ],
   "source": [
    "# t값과 F 통계량을 확인할 수 있는 statsmodels.api.OLS\n",
    "# 데이터 과학자는 t값을 확인하여 해당 변수를 넣을지 말지를 결정할 수 있음. \n",
    "import statsmodels.api as sm\n",
    "\n",
    "model = sm.OLS(house[outcome], house[predictors].assign(const=1))\n",
    "results = model.fit()\n",
    "results.summary()"
   ]
  },
  {
   "cell_type": "markdown",
   "id": "b1f9a6ee",
   "metadata": {},
   "source": [
    "***다중 선형 회귀 4.2.4 모형 선택 및 단계적 회귀***"
   ]
  },
  {
   "cell_type": "code",
   "execution_count": 38,
   "id": "d2639f34",
   "metadata": {
    "scrolled": true
   },
   "outputs": [
    {
     "data": {
      "text/html": [
       "<table class=\"simpletable\">\n",
       "<caption>OLS Regression Results</caption>\n",
       "<tr>\n",
       "  <th>Dep. Variable:</th>      <td>AdjSalePrice</td>   <th>  R-squared:         </th>  <td>   0.595</td>  \n",
       "</tr>\n",
       "<tr>\n",
       "  <th>Model:</th>                   <td>OLS</td>       <th>  Adj. R-squared:    </th>  <td>   0.594</td>  \n",
       "</tr>\n",
       "<tr>\n",
       "  <th>Method:</th>             <td>Least Squares</td>  <th>  F-statistic:       </th>  <td>   2771.</td>  \n",
       "</tr>\n",
       "<tr>\n",
       "  <th>Date:</th>             <td>Thu, 30 Mar 2023</td> <th>  Prob (F-statistic):</th>   <td>  0.00</td>   \n",
       "</tr>\n",
       "<tr>\n",
       "  <th>Time:</th>                 <td>20:13:05</td>     <th>  Log-Likelihood:    </th> <td>-3.1375e+05</td>\n",
       "</tr>\n",
       "<tr>\n",
       "  <th>No. Observations:</th>      <td> 22687</td>      <th>  AIC:               </th>  <td>6.275e+05</td> \n",
       "</tr>\n",
       "<tr>\n",
       "  <th>Df Residuals:</th>          <td> 22674</td>      <th>  BIC:               </th>  <td>6.276e+05</td> \n",
       "</tr>\n",
       "<tr>\n",
       "  <th>Df Model:</th>              <td>    12</td>      <th>                     </th>      <td> </td>     \n",
       "</tr>\n",
       "<tr>\n",
       "  <th>Covariance Type:</th>      <td>nonrobust</td>    <th>                     </th>      <td> </td>     \n",
       "</tr>\n",
       "</table>\n",
       "<table class=\"simpletable\">\n",
       "<tr>\n",
       "               <td></td>                 <th>coef</th>     <th>std err</th>      <th>t</th>      <th>P>|t|</th>  <th>[0.025</th>    <th>0.975]</th>  \n",
       "</tr>\n",
       "<tr>\n",
       "  <th>SqFtTotLiving</th>              <td>  198.6364</td> <td>    4.234</td> <td>   46.920</td> <td> 0.000</td> <td>  190.338</td> <td>  206.934</td>\n",
       "</tr>\n",
       "<tr>\n",
       "  <th>SqFtLot</th>                    <td>    0.0771</td> <td>    0.058</td> <td>    1.330</td> <td> 0.184</td> <td>   -0.037</td> <td>    0.191</td>\n",
       "</tr>\n",
       "<tr>\n",
       "  <th>Bathrooms</th>                  <td> 4.286e+04</td> <td> 3808.114</td> <td>   11.255</td> <td> 0.000</td> <td> 3.54e+04</td> <td> 5.03e+04</td>\n",
       "</tr>\n",
       "<tr>\n",
       "  <th>Bedrooms</th>                   <td>-5.187e+04</td> <td> 2396.904</td> <td>  -21.638</td> <td> 0.000</td> <td>-5.66e+04</td> <td>-4.72e+04</td>\n",
       "</tr>\n",
       "<tr>\n",
       "  <th>BldgGrade</th>                  <td> 1.373e+05</td> <td> 2441.242</td> <td>   56.228</td> <td> 0.000</td> <td> 1.32e+05</td> <td> 1.42e+05</td>\n",
       "</tr>\n",
       "<tr>\n",
       "  <th>NbrLivingUnits</th>             <td> 5723.8438</td> <td> 1.76e+04</td> <td>    0.326</td> <td> 0.744</td> <td>-2.87e+04</td> <td> 4.01e+04</td>\n",
       "</tr>\n",
       "<tr>\n",
       "  <th>SqFtFinBasement</th>            <td>    7.0611</td> <td>    4.627</td> <td>    1.526</td> <td> 0.127</td> <td>   -2.009</td> <td>   16.131</td>\n",
       "</tr>\n",
       "<tr>\n",
       "  <th>YrBuilt</th>                    <td>-3574.2210</td> <td>   77.228</td> <td>  -46.282</td> <td> 0.000</td> <td>-3725.593</td> <td>-3422.849</td>\n",
       "</tr>\n",
       "<tr>\n",
       "  <th>YrRenovated</th>                <td>   -2.5311</td> <td>    3.924</td> <td>   -0.645</td> <td> 0.519</td> <td>  -10.222</td> <td>    5.160</td>\n",
       "</tr>\n",
       "<tr>\n",
       "  <th>NewConstruction</th>            <td>-2489.1122</td> <td> 5936.692</td> <td>   -0.419</td> <td> 0.675</td> <td>-1.41e+04</td> <td> 9147.211</td>\n",
       "</tr>\n",
       "<tr>\n",
       "  <th>PropertyType_Single Family</th> <td> 2.997e+04</td> <td> 2.61e+04</td> <td>    1.149</td> <td> 0.251</td> <td>-2.12e+04</td> <td> 8.11e+04</td>\n",
       "</tr>\n",
       "<tr>\n",
       "  <th>PropertyType_Townhouse</th>     <td> 9.286e+04</td> <td>  2.7e+04</td> <td>    3.438</td> <td> 0.001</td> <td> 3.99e+04</td> <td> 1.46e+05</td>\n",
       "</tr>\n",
       "<tr>\n",
       "  <th>const</th>                      <td> 6.182e+06</td> <td> 1.55e+05</td> <td>   39.902</td> <td> 0.000</td> <td> 5.88e+06</td> <td> 6.49e+06</td>\n",
       "</tr>\n",
       "</table>\n",
       "<table class=\"simpletable\">\n",
       "<tr>\n",
       "  <th>Omnibus:</th>       <td>31006.128</td> <th>  Durbin-Watson:     </th>   <td>   1.393</td>  \n",
       "</tr>\n",
       "<tr>\n",
       "  <th>Prob(Omnibus):</th>  <td> 0.000</td>   <th>  Jarque-Bera (JB):  </th> <td>26251977.078</td>\n",
       "</tr>\n",
       "<tr>\n",
       "  <th>Skew:</th>           <td> 7.427</td>   <th>  Prob(JB):          </th>   <td>    0.00</td>  \n",
       "</tr>\n",
       "<tr>\n",
       "  <th>Kurtosis:</th>       <td>168.984</td>  <th>  Cond. No.          </th>   <td>2.98e+06</td>  \n",
       "</tr>\n",
       "</table><br/><br/>Notes:<br/>[1] Standard Errors assume that the covariance matrix of the errors is correctly specified.<br/>[2] The condition number is large, 2.98e+06. This might indicate that there are<br/>strong multicollinearity or other numerical problems."
      ],
      "text/plain": [
       "<class 'statsmodels.iolib.summary.Summary'>\n",
       "\"\"\"\n",
       "                            OLS Regression Results                            \n",
       "==============================================================================\n",
       "Dep. Variable:           AdjSalePrice   R-squared:                       0.595\n",
       "Model:                            OLS   Adj. R-squared:                  0.594\n",
       "Method:                 Least Squares   F-statistic:                     2771.\n",
       "Date:                Thu, 30 Mar 2023   Prob (F-statistic):               0.00\n",
       "Time:                        20:13:05   Log-Likelihood:            -3.1375e+05\n",
       "No. Observations:               22687   AIC:                         6.275e+05\n",
       "Df Residuals:                   22674   BIC:                         6.276e+05\n",
       "Df Model:                          12                                         \n",
       "Covariance Type:            nonrobust                                         \n",
       "==============================================================================================\n",
       "                                 coef    std err          t      P>|t|      [0.025      0.975]\n",
       "----------------------------------------------------------------------------------------------\n",
       "SqFtTotLiving                198.6364      4.234     46.920      0.000     190.338     206.934\n",
       "SqFtLot                        0.0771      0.058      1.330      0.184      -0.037       0.191\n",
       "Bathrooms                   4.286e+04   3808.114     11.255      0.000    3.54e+04    5.03e+04\n",
       "Bedrooms                   -5.187e+04   2396.904    -21.638      0.000   -5.66e+04   -4.72e+04\n",
       "BldgGrade                   1.373e+05   2441.242     56.228      0.000    1.32e+05    1.42e+05\n",
       "NbrLivingUnits              5723.8438   1.76e+04      0.326      0.744   -2.87e+04    4.01e+04\n",
       "SqFtFinBasement                7.0611      4.627      1.526      0.127      -2.009      16.131\n",
       "YrBuilt                    -3574.2210     77.228    -46.282      0.000   -3725.593   -3422.849\n",
       "YrRenovated                   -2.5311      3.924     -0.645      0.519     -10.222       5.160\n",
       "NewConstruction            -2489.1122   5936.692     -0.419      0.675   -1.41e+04    9147.211\n",
       "PropertyType_Single Family  2.997e+04   2.61e+04      1.149      0.251   -2.12e+04    8.11e+04\n",
       "PropertyType_Townhouse      9.286e+04    2.7e+04      3.438      0.001    3.99e+04    1.46e+05\n",
       "const                       6.182e+06   1.55e+05     39.902      0.000    5.88e+06    6.49e+06\n",
       "==============================================================================\n",
       "Omnibus:                    31006.128   Durbin-Watson:                   1.393\n",
       "Prob(Omnibus):                  0.000   Jarque-Bera (JB):         26251977.078\n",
       "Skew:                           7.427   Prob(JB):                         0.00\n",
       "Kurtosis:                     168.984   Cond. No.                     2.98e+06\n",
       "==============================================================================\n",
       "\n",
       "Notes:\n",
       "[1] Standard Errors assume that the covariance matrix of the errors is correctly specified.\n",
       "[2] The condition number is large, 2.98e+06. This might indicate that there are\n",
       "strong multicollinearity or other numerical problems.\n",
       "\"\"\""
      ]
     },
     "execution_count": 38,
     "metadata": {},
     "output_type": "execute_result"
    }
   ],
   "source": [
    "import statsmodels.api as sm\n",
    "\n",
    "predictors = ['SqFtTotLiving', 'SqFtLot', 'Bathrooms', 'Bedrooms', 'BldgGrade', 'PropertyType',\n",
    "              'NbrLivingUnits', 'SqFtFinBasement', 'YrBuilt', 'YrRenovated', 'NewConstruction']\n",
    "X = pd.get_dummies(house[predictors], drop_first=True) # drop_first = True \n",
    "                                                   # 첫번째 행 삭제 why? 나머지 행을 보고 유추가 가능하기 때문\n",
    "X['NewConstruction'] = [1 if nc else 0 for nc in X['NewConstruction']] # boolean => 0,1로 변경\n",
    "\n",
    "house_full = sm.OLS(house[outcome], X.assign(const=1))\n",
    "results = house_full.fit()\n",
    "results.summary()"
   ]
  },
  {
   "cell_type": "code",
   "execution_count": 46,
   "id": "4259a90a",
   "metadata": {},
   "outputs": [
    {
     "name": "stdout",
     "output_type": "stream",
     "text": [
      "Variables: SqFtTotLiving, SqFtLot, Bathrooms, Bedrooms, BldgGrade, NbrLivingUnits, SqFtFinBasement, YrBuilt, YrRenovated, NewConstruction, PropertyType_Single Family, PropertyType_Townhouse\n",
      "Start: score=647988.32, constant\n",
      "Step: score=633013.35, add SqFtTotLiving\n",
      "Step: score=630793.74, add BldgGrade\n",
      "Step: score=628230.29, add YrBuilt\n",
      "Step: score=627784.16, add Bedrooms\n",
      "Step: score=627602.21, add Bathrooms\n",
      "Step: score=627525.65, add PropertyType_Townhouse\n",
      "Step: score=627525.08, add SqFtFinBasement\n",
      "Step: score=627524.98, add PropertyType_Single Family\n",
      "Step: score=627524.98, unchanged None\n",
      "\n",
      "intercept : 6178645.017033\n",
      "Coeffcients\n",
      "SqFtTotLiving : 199.27755304201781\n",
      "BldgGrade : 137159.56022619802\n",
      "YrBuilt : -3565.424939249281\n",
      "Bedrooms : -51947.38367361341\n",
      "Bathrooms : 42396.16452771811\n",
      "PropertyType_Townhouse : 84479.16203300335\n",
      "SqFtFinBasement : 7.046974967583083\n",
      "PropertyType_Single Family : 22912.055187017646\n"
     ]
    }
   ],
   "source": [
    "from dmba import AIC_score, stepwise_selection\n",
    "\n",
    "y = house[outcome]\n",
    "X = pd.get_dummies(house[predictors], drop_first=True)\n",
    "\n",
    "def train_model(variables):\n",
    "    if len(variables) == 0:\n",
    "        return None\n",
    "    model = LinearRegression()\n",
    "    model.fit(X[variables], y)\n",
    "    return model\n",
    "\n",
    "def score_model(model, variables):\n",
    "    if len(variables) == 0:\n",
    "        return AIC_score(y, [y.mean()]*len(y), model, df=1)\n",
    "    return AIC_score(y, model.predict(X[variables]), model)\n",
    "    \n",
    "best_model, best_variables = stepwise_selection(X.columns, train_model, score_model, verbose=True)\n",
    "\n",
    "print(\"\\nintercept : {:3f}\".format(best_model.intercept_))\n",
    "print(\"\\nCoeffcients\")\n",
    "for name, coef in zip(best_variables, best_model.coef_):\n",
    "    print(\"{} : {}\".format(name, coef))"
   ]
  },
  {
   "cell_type": "markdown",
   "id": "897488da",
   "metadata": {},
   "source": [
    "***가중회귀***"
   ]
  },
  {
   "cell_type": "code",
   "execution_count": 65,
   "id": "14393116",
   "metadata": {},
   "outputs": [],
   "source": [
    "house['Year'] = [int(date.split('-')[0]) for date in house.DocumentDate]\n",
    "house['Weight'] = house.Year - 2005"
   ]
  },
  {
   "cell_type": "code",
   "execution_count": 67,
   "id": "868449c6",
   "metadata": {},
   "outputs": [
    {
     "name": "stdout",
     "output_type": "stream",
     "text": [
      "0.5381648454281939\n"
     ]
    }
   ],
   "source": [
    "from sklearn.linear_model import LinearRegression\n",
    "from sklearn.metrics import r2_score\n",
    "\n",
    "predictors = ['SqFtTotLiving', 'SqFtLot', 'Bathrooms', 'Bedrooms', 'BldgGrade']\n",
    "outcome = 'AdjSalePrice'\n",
    "\n",
    "house_wt = LinearRegression()\n",
    "house_wt.fit(house[predictors], house[outcome], sample_weight=house['Weight'])\n",
    "\n",
    "fitted = house_wt.predict(house[predictors])\n",
    "\n",
    "print(r2_score(house[outcome], fitted)) \n",
    "\n",
    "\"\"\"\n",
    "위의 처음모델과 비교하여 r2_score가 줄어들음??\n",
    "\"\"\""
   ]
  },
  {
   "cell_type": "markdown",
   "id": "7bd2b5c1",
   "metadata": {},
   "source": [
    "***4.4.1 가변수 표현***"
   ]
  },
  {
   "cell_type": "code",
   "execution_count": 72,
   "id": "bd1e1850",
   "metadata": {},
   "outputs": [
    {
     "data": {
      "text/html": [
       "<div>\n",
       "<style scoped>\n",
       "    .dataframe tbody tr th:only-of-type {\n",
       "        vertical-align: middle;\n",
       "    }\n",
       "\n",
       "    .dataframe tbody tr th {\n",
       "        vertical-align: top;\n",
       "    }\n",
       "\n",
       "    .dataframe thead th {\n",
       "        text-align: right;\n",
       "    }\n",
       "</style>\n",
       "<table border=\"1\" class=\"dataframe\">\n",
       "  <thead>\n",
       "    <tr style=\"text-align: right;\">\n",
       "      <th></th>\n",
       "      <th>Single Family</th>\n",
       "      <th>Townhouse</th>\n",
       "    </tr>\n",
       "  </thead>\n",
       "  <tbody>\n",
       "    <tr>\n",
       "      <th>1</th>\n",
       "      <td>0</td>\n",
       "      <td>0</td>\n",
       "    </tr>\n",
       "    <tr>\n",
       "      <th>2</th>\n",
       "      <td>1</td>\n",
       "      <td>0</td>\n",
       "    </tr>\n",
       "    <tr>\n",
       "      <th>3</th>\n",
       "      <td>1</td>\n",
       "      <td>0</td>\n",
       "    </tr>\n",
       "    <tr>\n",
       "      <th>4</th>\n",
       "      <td>1</td>\n",
       "      <td>0</td>\n",
       "    </tr>\n",
       "    <tr>\n",
       "      <th>5</th>\n",
       "      <td>1</td>\n",
       "      <td>0</td>\n",
       "    </tr>\n",
       "    <tr>\n",
       "      <th>...</th>\n",
       "      <td>...</td>\n",
       "      <td>...</td>\n",
       "    </tr>\n",
       "    <tr>\n",
       "      <th>27057</th>\n",
       "      <td>1</td>\n",
       "      <td>0</td>\n",
       "    </tr>\n",
       "    <tr>\n",
       "      <th>27058</th>\n",
       "      <td>1</td>\n",
       "      <td>0</td>\n",
       "    </tr>\n",
       "    <tr>\n",
       "      <th>27061</th>\n",
       "      <td>1</td>\n",
       "      <td>0</td>\n",
       "    </tr>\n",
       "    <tr>\n",
       "      <th>27062</th>\n",
       "      <td>1</td>\n",
       "      <td>0</td>\n",
       "    </tr>\n",
       "    <tr>\n",
       "      <th>27063</th>\n",
       "      <td>1</td>\n",
       "      <td>0</td>\n",
       "    </tr>\n",
       "  </tbody>\n",
       "</table>\n",
       "<p>22687 rows × 2 columns</p>\n",
       "</div>"
      ],
      "text/plain": [
       "       Single Family  Townhouse\n",
       "1                  0          0\n",
       "2                  1          0\n",
       "3                  1          0\n",
       "4                  1          0\n",
       "5                  1          0\n",
       "...              ...        ...\n",
       "27057              1          0\n",
       "27058              1          0\n",
       "27061              1          0\n",
       "27062              1          0\n",
       "27063              1          0\n",
       "\n",
       "[22687 rows x 2 columns]"
      ]
     },
     "execution_count": 72,
     "metadata": {},
     "output_type": "execute_result"
    }
   ],
   "source": [
    "pd.get_dummies(house['PropertyType'])\n",
    "pd.get_dummies(house['PropertyType'], drop_first=True) # 이렇게 해야 다중 공선성 문제를 피할 수 있음. "
   ]
  },
  {
   "cell_type": "code",
   "execution_count": 88,
   "id": "79dde068",
   "metadata": {},
   "outputs": [
    {
     "name": "stdout",
     "output_type": "stream",
     "text": [
      "intercept :  -446841.36631167436\n",
      "\n",
      "coeffecieints : \n",
      "SqFtTotLiving : 223.37362892503862\n",
      "SqFtLot : -0.0703679813681326\n",
      "Bathrooms : -15979.013473414965\n",
      "Bedrooms : -50889.73218483036\n",
      "BldgGrade : 109416.30516146174\n",
      "PropertyType_Single Family : -84678.21629549288\n",
      "PropertyType_Townhouse : -115121.97921609206\n"
     ]
    }
   ],
   "source": [
    "predictors = ['SqFtTotLiving', 'SqFtLot', 'Bathrooms', 'Bedrooms', 'BldgGrade', \n",
    "              'PropertyType']\n",
    "X = pd.get_dummies(house[predictors], drop_first=True)\n",
    "\n",
    "house_lm = LinearRegression()\n",
    "house_lm.fit(X, house[outcome])\n",
    "\n",
    "print('intercept : ', house_lm_factor.intercept_)\n",
    "print('\\ncoeffecieints : ')\n",
    "for name, coef in zip(X.columns, house_lm_factor.coef_):\n",
    "    print (\"{} : {}\".format(name, coef))"
   ]
  },
  {
   "cell_type": "markdown",
   "id": "e836ba02",
   "metadata": {},
   "source": [
    "***4.4.2 다수의 수준을 갖는 요인변수들***"
   ]
  },
  {
   "cell_type": "code",
   "execution_count": 83,
   "id": "f59f4fe8",
   "metadata": {},
   "outputs": [
    {
     "data": {
      "text/plain": [
       "(80, 1)"
      ]
     },
     "execution_count": 83,
     "metadata": {},
     "output_type": "execute_result"
    }
   ],
   "source": [
    "# 자유도는 79에 해당하는 79개의 계수가 필요\n",
    "# Zipcode는 주택 가격에 대한 위치의 효과를 볼 수 있는 중요한 변수 \n",
    "pd.DataFrame(house['ZipCode'].value_counts()).shape"
   ]
  },
  {
   "cell_type": "code",
   "execution_count": 137,
   "id": "2667f4d9",
   "metadata": {},
   "outputs": [
    {
     "data": {
      "text/html": [
       "<div>\n",
       "<style scoped>\n",
       "    .dataframe tbody tr th:only-of-type {\n",
       "        vertical-align: middle;\n",
       "    }\n",
       "\n",
       "    .dataframe tbody tr th {\n",
       "        vertical-align: top;\n",
       "    }\n",
       "\n",
       "    .dataframe thead th {\n",
       "        text-align: right;\n",
       "    }\n",
       "</style>\n",
       "<table border=\"1\" class=\"dataframe\">\n",
       "  <thead>\n",
       "    <tr style=\"text-align: right;\">\n",
       "      <th></th>\n",
       "      <th>ZipCode</th>\n",
       "      <th>count</th>\n",
       "      <th>median_residual</th>\n",
       "    </tr>\n",
       "  </thead>\n",
       "  <tbody>\n",
       "    <tr>\n",
       "      <th>36</th>\n",
       "      <td>98057</td>\n",
       "      <td>4</td>\n",
       "      <td>-538938.746571</td>\n",
       "    </tr>\n",
       "    <tr>\n",
       "      <th>27</th>\n",
       "      <td>98043</td>\n",
       "      <td>1</td>\n",
       "      <td>-304848.132844</td>\n",
       "    </tr>\n",
       "    <tr>\n",
       "      <th>46</th>\n",
       "      <td>98092</td>\n",
       "      <td>289</td>\n",
       "      <td>-195063.801799</td>\n",
       "    </tr>\n",
       "    <tr>\n",
       "      <th>23</th>\n",
       "      <td>98038</td>\n",
       "      <td>788</td>\n",
       "      <td>-148401.858065</td>\n",
       "    </tr>\n",
       "    <tr>\n",
       "      <th>31</th>\n",
       "      <td>98051</td>\n",
       "      <td>32</td>\n",
       "      <td>-142571.462708</td>\n",
       "    </tr>\n",
       "    <tr>\n",
       "      <th>...</th>\n",
       "      <td>...</td>\n",
       "      <td>...</td>\n",
       "      <td>...</td>\n",
       "    </tr>\n",
       "    <tr>\n",
       "      <th>60</th>\n",
       "      <td>98119</td>\n",
       "      <td>260</td>\n",
       "      <td>172736.205653</td>\n",
       "    </tr>\n",
       "    <tr>\n",
       "      <th>54</th>\n",
       "      <td>98112</td>\n",
       "      <td>357</td>\n",
       "      <td>234375.837866</td>\n",
       "    </tr>\n",
       "    <tr>\n",
       "      <th>25</th>\n",
       "      <td>98040</td>\n",
       "      <td>244</td>\n",
       "      <td>250438.973697</td>\n",
       "    </tr>\n",
       "    <tr>\n",
       "      <th>3</th>\n",
       "      <td>98004</td>\n",
       "      <td>293</td>\n",
       "      <td>381674.018349</td>\n",
       "    </tr>\n",
       "    <tr>\n",
       "      <th>24</th>\n",
       "      <td>98039</td>\n",
       "      <td>47</td>\n",
       "      <td>743476.395343</td>\n",
       "    </tr>\n",
       "  </tbody>\n",
       "</table>\n",
       "<p>80 rows × 3 columns</p>\n",
       "</div>"
      ],
      "text/plain": [
       "    ZipCode  count  median_residual\n",
       "36    98057      4   -538938.746571\n",
       "27    98043      1   -304848.132844\n",
       "46    98092    289   -195063.801799\n",
       "23    98038    788   -148401.858065\n",
       "31    98051     32   -142571.462708\n",
       "..      ...    ...              ...\n",
       "60    98119    260    172736.205653\n",
       "54    98112    357    234375.837866\n",
       "25    98040    244    250438.973697\n",
       "3     98004    293    381674.018349\n",
       "24    98039     47    743476.395343\n",
       "\n",
       "[80 rows x 3 columns]"
      ]
     },
     "execution_count": 137,
     "metadata": {},
     "output_type": "execute_result"
    }
   ],
   "source": [
    "predictors = ['SqFtTotLiving', 'SqFtLot', 'Bathrooms', 'Bedrooms', 'BldgGrade', \n",
    "              'PropertyType']\n",
    "X = pd.get_dummies(house[predictors], drop_first=True)\n",
    "\n",
    "house_lm = LinearRegression()\n",
    "house_lm.fit(X, house[outcome])\n",
    "\n",
    "zip_groups = pd.DataFrame([\n",
    "*pd.DataFrame({\n",
    "    'ZipCode' : house['ZipCode'],\n",
    "    'residual' : house[outcome] - house_lm.predict(X)\n",
    "}).groupby('ZipCode').apply(lambda x : {'ZipCode' : x.iloc[0,0],\n",
    "                                        'count' : len(x),\n",
    "                                        'median_residual': x.residual.median()})]).sort_values('median_residual')\n",
    "zip_groups"
   ]
  },
  {
   "cell_type": "code",
   "execution_count": 138,
   "id": "13effc90",
   "metadata": {},
   "outputs": [
    {
     "data": {
      "text/html": [
       "<div>\n",
       "<style scoped>\n",
       "    .dataframe tbody tr th:only-of-type {\n",
       "        vertical-align: middle;\n",
       "    }\n",
       "\n",
       "    .dataframe tbody tr th {\n",
       "        vertical-align: top;\n",
       "    }\n",
       "\n",
       "    .dataframe thead th {\n",
       "        text-align: right;\n",
       "    }\n",
       "</style>\n",
       "<table border=\"1\" class=\"dataframe\">\n",
       "  <thead>\n",
       "    <tr style=\"text-align: right;\">\n",
       "      <th></th>\n",
       "      <th>ZipCode</th>\n",
       "      <th>count</th>\n",
       "      <th>median_residual</th>\n",
       "      <th>cum_count</th>\n",
       "    </tr>\n",
       "  </thead>\n",
       "  <tbody>\n",
       "    <tr>\n",
       "      <th>36</th>\n",
       "      <td>98057</td>\n",
       "      <td>4</td>\n",
       "      <td>-538938.746571</td>\n",
       "      <td>4</td>\n",
       "    </tr>\n",
       "    <tr>\n",
       "      <th>27</th>\n",
       "      <td>98043</td>\n",
       "      <td>1</td>\n",
       "      <td>-304848.132844</td>\n",
       "      <td>5</td>\n",
       "    </tr>\n",
       "    <tr>\n",
       "      <th>46</th>\n",
       "      <td>98092</td>\n",
       "      <td>289</td>\n",
       "      <td>-195063.801799</td>\n",
       "      <td>294</td>\n",
       "    </tr>\n",
       "    <tr>\n",
       "      <th>23</th>\n",
       "      <td>98038</td>\n",
       "      <td>788</td>\n",
       "      <td>-148401.858065</td>\n",
       "      <td>1082</td>\n",
       "    </tr>\n",
       "    <tr>\n",
       "      <th>31</th>\n",
       "      <td>98051</td>\n",
       "      <td>32</td>\n",
       "      <td>-142571.462708</td>\n",
       "      <td>1114</td>\n",
       "    </tr>\n",
       "    <tr>\n",
       "      <th>...</th>\n",
       "      <td>...</td>\n",
       "      <td>...</td>\n",
       "      <td>...</td>\n",
       "      <td>...</td>\n",
       "    </tr>\n",
       "    <tr>\n",
       "      <th>60</th>\n",
       "      <td>98119</td>\n",
       "      <td>260</td>\n",
       "      <td>172736.205653</td>\n",
       "      <td>21746</td>\n",
       "    </tr>\n",
       "    <tr>\n",
       "      <th>54</th>\n",
       "      <td>98112</td>\n",
       "      <td>357</td>\n",
       "      <td>234375.837866</td>\n",
       "      <td>22103</td>\n",
       "    </tr>\n",
       "    <tr>\n",
       "      <th>25</th>\n",
       "      <td>98040</td>\n",
       "      <td>244</td>\n",
       "      <td>250438.973697</td>\n",
       "      <td>22347</td>\n",
       "    </tr>\n",
       "    <tr>\n",
       "      <th>3</th>\n",
       "      <td>98004</td>\n",
       "      <td>293</td>\n",
       "      <td>381674.018349</td>\n",
       "      <td>22640</td>\n",
       "    </tr>\n",
       "    <tr>\n",
       "      <th>24</th>\n",
       "      <td>98039</td>\n",
       "      <td>47</td>\n",
       "      <td>743476.395343</td>\n",
       "      <td>22687</td>\n",
       "    </tr>\n",
       "  </tbody>\n",
       "</table>\n",
       "<p>80 rows × 4 columns</p>\n",
       "</div>"
      ],
      "text/plain": [
       "    ZipCode  count  median_residual  cum_count\n",
       "36    98057      4   -538938.746571          4\n",
       "27    98043      1   -304848.132844          5\n",
       "46    98092    289   -195063.801799        294\n",
       "23    98038    788   -148401.858065       1082\n",
       "31    98051     32   -142571.462708       1114\n",
       "..      ...    ...              ...        ...\n",
       "60    98119    260    172736.205653      21746\n",
       "54    98112    357    234375.837866      22103\n",
       "25    98040    244    250438.973697      22347\n",
       "3     98004    293    381674.018349      22640\n",
       "24    98039     47    743476.395343      22687\n",
       "\n",
       "[80 rows x 4 columns]"
      ]
     },
     "execution_count": 138,
     "metadata": {},
     "output_type": "execute_result"
    }
   ],
   "source": [
    "zip_groups['cum_count'] = np.cumsum(zip_groups['count'])\n",
    "zip_groups"
   ]
  },
  {
   "cell_type": "code",
   "execution_count": 139,
   "id": "7f2c0d2b",
   "metadata": {},
   "outputs": [],
   "source": [
    "zip_groups['ZipGroup'] = pd.qcut(zip_groups['cum_count'], 5, labels=False, retbins=False)"
   ]
  },
  {
   "cell_type": "code",
   "execution_count": 140,
   "id": "c6332f47",
   "metadata": {},
   "outputs": [],
   "source": [
    "to_join = zip_groups[['ZipCode', 'ZipGroup']].set_index('ZipCode')\n",
    "house = house.join(to_join, on='ZipCode')\n",
    "house['ZipGroup'] = house['ZipGroup'].astype('category')"
   ]
  },
  {
   "cell_type": "code",
   "execution_count": null,
   "id": "d9d0d680",
   "metadata": {},
   "outputs": [],
   "source": []
  },
  {
   "cell_type": "code",
   "execution_count": null,
   "id": "13241c07",
   "metadata": {},
   "outputs": [],
   "source": []
  },
  {
   "cell_type": "code",
   "execution_count": null,
   "id": "f77a0a7e",
   "metadata": {},
   "outputs": [],
   "source": []
  },
  {
   "cell_type": "code",
   "execution_count": null,
   "id": "7745a312",
   "metadata": {},
   "outputs": [],
   "source": []
  },
  {
   "cell_type": "markdown",
   "id": "92a368c0",
   "metadata": {},
   "source": [
    "***4.5.1 예측변수간 상관***"
   ]
  },
  {
   "cell_type": "code",
   "execution_count": 77,
   "id": "cb7d2764",
   "metadata": {},
   "outputs": [
    {
     "data": {
      "text/html": [
       "<style>#sk-container-id-3 {color: black;background-color: white;}#sk-container-id-3 pre{padding: 0;}#sk-container-id-3 div.sk-toggleable {background-color: white;}#sk-container-id-3 label.sk-toggleable__label {cursor: pointer;display: block;width: 100%;margin-bottom: 0;padding: 0.3em;box-sizing: border-box;text-align: center;}#sk-container-id-3 label.sk-toggleable__label-arrow:before {content: \"▸\";float: left;margin-right: 0.25em;color: #696969;}#sk-container-id-3 label.sk-toggleable__label-arrow:hover:before {color: black;}#sk-container-id-3 div.sk-estimator:hover label.sk-toggleable__label-arrow:before {color: black;}#sk-container-id-3 div.sk-toggleable__content {max-height: 0;max-width: 0;overflow: hidden;text-align: left;background-color: #f0f8ff;}#sk-container-id-3 div.sk-toggleable__content pre {margin: 0.2em;color: black;border-radius: 0.25em;background-color: #f0f8ff;}#sk-container-id-3 input.sk-toggleable__control:checked~div.sk-toggleable__content {max-height: 200px;max-width: 100%;overflow: auto;}#sk-container-id-3 input.sk-toggleable__control:checked~label.sk-toggleable__label-arrow:before {content: \"▾\";}#sk-container-id-3 div.sk-estimator input.sk-toggleable__control:checked~label.sk-toggleable__label {background-color: #d4ebff;}#sk-container-id-3 div.sk-label input.sk-toggleable__control:checked~label.sk-toggleable__label {background-color: #d4ebff;}#sk-container-id-3 input.sk-hidden--visually {border: 0;clip: rect(1px 1px 1px 1px);clip: rect(1px, 1px, 1px, 1px);height: 1px;margin: -1px;overflow: hidden;padding: 0;position: absolute;width: 1px;}#sk-container-id-3 div.sk-estimator {font-family: monospace;background-color: #f0f8ff;border: 1px dotted black;border-radius: 0.25em;box-sizing: border-box;margin-bottom: 0.5em;}#sk-container-id-3 div.sk-estimator:hover {background-color: #d4ebff;}#sk-container-id-3 div.sk-parallel-item::after {content: \"\";width: 100%;border-bottom: 1px solid gray;flex-grow: 1;}#sk-container-id-3 div.sk-label:hover label.sk-toggleable__label {background-color: #d4ebff;}#sk-container-id-3 div.sk-serial::before {content: \"\";position: absolute;border-left: 1px solid gray;box-sizing: border-box;top: 0;bottom: 0;left: 50%;z-index: 0;}#sk-container-id-3 div.sk-serial {display: flex;flex-direction: column;align-items: center;background-color: white;padding-right: 0.2em;padding-left: 0.2em;position: relative;}#sk-container-id-3 div.sk-item {position: relative;z-index: 1;}#sk-container-id-3 div.sk-parallel {display: flex;align-items: stretch;justify-content: center;background-color: white;position: relative;}#sk-container-id-3 div.sk-item::before, #sk-container-id-3 div.sk-parallel-item::before {content: \"\";position: absolute;border-left: 1px solid gray;box-sizing: border-box;top: 0;bottom: 0;left: 50%;z-index: -1;}#sk-container-id-3 div.sk-parallel-item {display: flex;flex-direction: column;z-index: 1;position: relative;background-color: white;}#sk-container-id-3 div.sk-parallel-item:first-child::after {align-self: flex-end;width: 50%;}#sk-container-id-3 div.sk-parallel-item:last-child::after {align-self: flex-start;width: 50%;}#sk-container-id-3 div.sk-parallel-item:only-child::after {width: 0;}#sk-container-id-3 div.sk-dashed-wrapped {border: 1px dashed gray;margin: 0 0.4em 0.5em 0.4em;box-sizing: border-box;padding-bottom: 0.4em;background-color: white;}#sk-container-id-3 div.sk-label label {font-family: monospace;font-weight: bold;display: inline-block;line-height: 1.2em;}#sk-container-id-3 div.sk-label-container {text-align: center;}#sk-container-id-3 div.sk-container {/* jupyter's `normalize.less` sets `[hidden] { display: none; }` but bootstrap.min.css set `[hidden] { display: none !important; }` so we also need the `!important` here to be able to override the default hidden behavior on the sphinx rendered scikit-learn.org. See: https://github.com/scikit-learn/scikit-learn/issues/21755 */display: inline-block !important;position: relative;}#sk-container-id-3 div.sk-text-repr-fallback {display: none;}</style><div id=\"sk-container-id-3\" class=\"sk-top-container\"><div class=\"sk-text-repr-fallback\"><pre>LinearRegression()</pre><b>In a Jupyter environment, please rerun this cell to show the HTML representation or trust the notebook. <br />On GitHub, the HTML representation is unable to render, please try loading this page with nbviewer.org.</b></div><div class=\"sk-container\" hidden><div class=\"sk-item\"><div class=\"sk-estimator sk-toggleable\"><input class=\"sk-toggleable__control sk-hidden--visually\" id=\"sk-estimator-id-3\" type=\"checkbox\" checked><label for=\"sk-estimator-id-3\" class=\"sk-toggleable__label sk-toggleable__label-arrow\">LinearRegression</label><div class=\"sk-toggleable__content\"><pre>LinearRegression()</pre></div></div></div></div></div>"
      ],
      "text/plain": [
       "LinearRegression()"
      ]
     },
     "execution_count": 77,
     "metadata": {},
     "output_type": "execute_result"
    }
   ],
   "source": [
    "# 침실 개수를 뜻하는 Bedrooms의 계수가 음수 ==> 침실 개수를 늘릴 수록 그 가치가 감소한다는 뜻\n",
    "# why? 예측 변수들이 서로 연관되어 있음.\n",
    "# 침실 수, 평 수, 욕실 수에 대한 변수들은 모두 상관관계가 있음. \n",
    "# 몇가지 변수들을 제거하고 다시 모델링\n",
    "\n",
    "predictors = ['Bedrooms', 'BldgGrade', 'PropertyType', 'YrBuilt']\n",
    "outcome = 'AdjSalePrice'\n",
    "\n",
    "X = pd.get_dummies(house[predictors], drop_first=True)\n",
    "\n",
    "reduced_lm = LinearRegression()\n",
    "reduced_lm.fit(X, house[outcome])"
   ]
  },
  {
   "cell_type": "markdown",
   "id": "a1f4c89f",
   "metadata": {},
   "source": [
    "***4.5.2 다중공선성***"
   ]
  },
  {
   "cell_type": "code",
   "execution_count": null,
   "id": "2b26f52a",
   "metadata": {},
   "outputs": [],
   "source": [
    "# 회귀분석에서는 다중공선성 문제를 반드시 해결해야 한다.\n",
    "# 다중공선성이 사라질 때까지 변수를 제거해야 한다. \n",
    "# 완전 다중공선성이 존재하는 상황에서는 회귀를 통해 제대로 된 답을 얻을 수 없다. "
   ]
  },
  {
   "cell_type": "markdown",
   "id": "2d3c796f",
   "metadata": {},
   "source": [
    "***4.5.3 교란변수***"
   ]
  },
  {
   "cell_type": "code",
   "execution_count": 130,
   "id": "f9a8a2ef",
   "metadata": {},
   "outputs": [
    {
     "name": "stdout",
     "output_type": "stream",
     "text": [
      "intercept:  -714107.1965514625\n",
      "\n",
      "Coeffcients : \n",
      "SqFtTotLiving : 210.208777344908\n",
      "SqFtLot : 0.41592886950448715\n",
      "Bathrooms : 7795.793532553715\n",
      "Bedrooms : -41554.5360359692\n",
      "BldgGrade : 102655.1406774694\n",
      "ZipGroup : 80679.18338328566\n",
      "PropertyType_Single Family : 11281.964578595109\n",
      "PropertyType_Townhouse : -89312.26236012837\n"
     ]
    }
   ],
   "source": [
    "# 회귀 방정식에 중요한 변수가 포함되지 못해서 생기는 누락의 문제\n",
    "# 여기서는 우편번호 (위치 변수)\n",
    "predictors = ['SqFtTotLiving', 'SqFtLot', 'Bathrooms', 'Bedrooms', 'BldgGrade', \n",
    "              'PropertyType', 'ZipGroup']\n",
    "outcome = 'AdjSalePrice'\n",
    "\n",
    "X = pd.get_dummies(house[predictors], drop_first=True)\n",
    "\n",
    "confounding_lm = LinearRegression()\n",
    "confounding_lm.fit(X, house[outcome])\n",
    "\n",
    "print('intercept: ', confounding_lm.intercept_)\n",
    "print('\\nCoeffcients : ')\n",
    "for name, coef in zip(X.columns, confounding_lm.coef_):\n",
    "    print (\"{} : {}\".format(name, coef))"
   ]
  },
  {
   "cell_type": "markdown",
   "id": "ac03c1b2",
   "metadata": {},
   "source": [
    "***상호작용과 주효과***"
   ]
  },
  {
   "cell_type": "code",
   "execution_count": 141,
   "id": "d03c97e9",
   "metadata": {},
   "outputs": [
    {
     "data": {
      "text/html": [
       "<table class=\"simpletable\">\n",
       "<caption>OLS Regression Results</caption>\n",
       "<tr>\n",
       "  <th>Dep. Variable:</th>      <td>AdjSalePrice</td>   <th>  R-squared:         </th>  <td>   0.682</td>  \n",
       "</tr>\n",
       "<tr>\n",
       "  <th>Model:</th>                   <td>OLS</td>       <th>  Adj. R-squared:    </th>  <td>   0.681</td>  \n",
       "</tr>\n",
       "<tr>\n",
       "  <th>Method:</th>             <td>Least Squares</td>  <th>  F-statistic:       </th>  <td>   3236.</td>  \n",
       "</tr>\n",
       "<tr>\n",
       "  <th>Date:</th>             <td>Thu, 30 Mar 2023</td> <th>  Prob (F-statistic):</th>   <td>  0.00</td>   \n",
       "</tr>\n",
       "<tr>\n",
       "  <th>Time:</th>                 <td>22:50:38</td>     <th>  Log-Likelihood:    </th> <td>-3.1101e+05</td>\n",
       "</tr>\n",
       "<tr>\n",
       "  <th>No. Observations:</th>      <td> 22687</td>      <th>  AIC:               </th>  <td>6.221e+05</td> \n",
       "</tr>\n",
       "<tr>\n",
       "  <th>Df Residuals:</th>          <td> 22671</td>      <th>  BIC:               </th>  <td>6.222e+05</td> \n",
       "</tr>\n",
       "<tr>\n",
       "  <th>Df Model:</th>              <td>    15</td>      <th>                     </th>      <td> </td>     \n",
       "</tr>\n",
       "<tr>\n",
       "  <th>Covariance Type:</th>      <td>nonrobust</td>    <th>                     </th>      <td> </td>     \n",
       "</tr>\n",
       "</table>\n",
       "<table class=\"simpletable\">\n",
       "<tr>\n",
       "                <td></td>                   <th>coef</th>     <th>std err</th>      <th>t</th>      <th>P>|t|</th>  <th>[0.025</th>    <th>0.975]</th>  \n",
       "</tr>\n",
       "<tr>\n",
       "  <th>Intercept</th>                     <td>-4.879e+05</td> <td> 2.05e+04</td> <td>  -23.813</td> <td> 0.000</td> <td>-5.28e+05</td> <td>-4.48e+05</td>\n",
       "</tr>\n",
       "<tr>\n",
       "  <th>ZipGroup[T.1]</th>                 <td>-1.452e+04</td> <td>  1.3e+04</td> <td>   -1.120</td> <td> 0.263</td> <td>-3.99e+04</td> <td> 1.09e+04</td>\n",
       "</tr>\n",
       "<tr>\n",
       "  <th>ZipGroup[T.2]</th>                 <td> 2.161e+04</td> <td> 1.21e+04</td> <td>    1.785</td> <td> 0.074</td> <td>-2121.066</td> <td> 4.53e+04</td>\n",
       "</tr>\n",
       "<tr>\n",
       "  <th>ZipGroup[T.3]</th>                 <td> 7323.1835</td> <td> 1.21e+04</td> <td>    0.604</td> <td> 0.546</td> <td>-1.64e+04</td> <td> 3.11e+04</td>\n",
       "</tr>\n",
       "<tr>\n",
       "  <th>ZipGroup[T.4]</th>                 <td>-1.527e+05</td> <td> 1.12e+04</td> <td>  -13.589</td> <td> 0.000</td> <td>-1.75e+05</td> <td>-1.31e+05</td>\n",
       "</tr>\n",
       "<tr>\n",
       "  <th>PropertyType[T.Single Family]</th> <td> 1.322e+04</td> <td> 1.39e+04</td> <td>    0.949</td> <td> 0.343</td> <td>-1.41e+04</td> <td> 4.05e+04</td>\n",
       "</tr>\n",
       "<tr>\n",
       "  <th>PropertyType[T.Townhouse]</th>     <td> -5.86e+04</td> <td> 1.52e+04</td> <td>   -3.867</td> <td> 0.000</td> <td>-8.83e+04</td> <td>-2.89e+04</td>\n",
       "</tr>\n",
       "<tr>\n",
       "  <th>SqFtTotLiving</th>                 <td>  114.4857</td> <td>    4.867</td> <td>   23.521</td> <td> 0.000</td> <td>  104.945</td> <td>  124.026</td>\n",
       "</tr>\n",
       "<tr>\n",
       "  <th>SqFtTotLiving:ZipGroup[T.1]</th>   <td>   36.4813</td> <td>    5.488</td> <td>    6.648</td> <td> 0.000</td> <td>   25.725</td> <td>   47.237</td>\n",
       "</tr>\n",
       "<tr>\n",
       "  <th>SqFtTotLiving:ZipGroup[T.2]</th>   <td>   41.2295</td> <td>    5.364</td> <td>    7.686</td> <td> 0.000</td> <td>   30.716</td> <td>   51.743</td>\n",
       "</tr>\n",
       "<tr>\n",
       "  <th>SqFtTotLiving:ZipGroup[T.3]</th>   <td>   76.1137</td> <td>    5.584</td> <td>   13.630</td> <td> 0.000</td> <td>   65.168</td> <td>   87.059</td>\n",
       "</tr>\n",
       "<tr>\n",
       "  <th>SqFtTotLiving:ZipGroup[T.4]</th>   <td>  228.1176</td> <td>    4.825</td> <td>   47.280</td> <td> 0.000</td> <td>  218.661</td> <td>  237.575</td>\n",
       "</tr>\n",
       "<tr>\n",
       "  <th>SqFtLot</th>                       <td>    0.7172</td> <td>    0.052</td> <td>   13.859</td> <td> 0.000</td> <td>    0.616</td> <td>    0.819</td>\n",
       "</tr>\n",
       "<tr>\n",
       "  <th>Bathrooms</th>                     <td>-5118.4136</td> <td> 3205.231</td> <td>   -1.597</td> <td> 0.110</td> <td>-1.14e+04</td> <td> 1164.060</td>\n",
       "</tr>\n",
       "<tr>\n",
       "  <th>Bedrooms</th>                      <td>-4.154e+04</td> <td> 2123.239</td> <td>  -19.566</td> <td> 0.000</td> <td>-4.57e+04</td> <td>-3.74e+04</td>\n",
       "</tr>\n",
       "<tr>\n",
       "  <th>BldgGrade</th>                     <td> 1.054e+05</td> <td> 2069.829</td> <td>   50.929</td> <td> 0.000</td> <td> 1.01e+05</td> <td> 1.09e+05</td>\n",
       "</tr>\n",
       "</table>\n",
       "<table class=\"simpletable\">\n",
       "<tr>\n",
       "  <th>Omnibus:</th>       <td>30737.778</td> <th>  Durbin-Watson:     </th>   <td>   1.583</td>  \n",
       "</tr>\n",
       "<tr>\n",
       "  <th>Prob(Omnibus):</th>  <td> 0.000</td>   <th>  Jarque-Bera (JB):  </th> <td>33537624.445</td>\n",
       "</tr>\n",
       "<tr>\n",
       "  <th>Skew:</th>           <td> 7.193</td>   <th>  Prob(JB):          </th>   <td>    0.00</td>  \n",
       "</tr>\n",
       "<tr>\n",
       "  <th>Kurtosis:</th>       <td>190.807</td>  <th>  Cond. No.          </th>   <td>5.80e+05</td>  \n",
       "</tr>\n",
       "</table><br/><br/>Notes:<br/>[1] Standard Errors assume that the covariance matrix of the errors is correctly specified.<br/>[2] The condition number is large, 5.8e+05. This might indicate that there are<br/>strong multicollinearity or other numerical problems."
      ],
      "text/plain": [
       "<class 'statsmodels.iolib.summary.Summary'>\n",
       "\"\"\"\n",
       "                            OLS Regression Results                            \n",
       "==============================================================================\n",
       "Dep. Variable:           AdjSalePrice   R-squared:                       0.682\n",
       "Model:                            OLS   Adj. R-squared:                  0.681\n",
       "Method:                 Least Squares   F-statistic:                     3236.\n",
       "Date:                Thu, 30 Mar 2023   Prob (F-statistic):               0.00\n",
       "Time:                        22:50:38   Log-Likelihood:            -3.1101e+05\n",
       "No. Observations:               22687   AIC:                         6.221e+05\n",
       "Df Residuals:                   22671   BIC:                         6.222e+05\n",
       "Df Model:                          15                                         \n",
       "Covariance Type:            nonrobust                                         \n",
       "=================================================================================================\n",
       "                                    coef    std err          t      P>|t|      [0.025      0.975]\n",
       "-------------------------------------------------------------------------------------------------\n",
       "Intercept                     -4.879e+05   2.05e+04    -23.813      0.000   -5.28e+05   -4.48e+05\n",
       "ZipGroup[T.1]                 -1.452e+04    1.3e+04     -1.120      0.263   -3.99e+04    1.09e+04\n",
       "ZipGroup[T.2]                  2.161e+04   1.21e+04      1.785      0.074   -2121.066    4.53e+04\n",
       "ZipGroup[T.3]                  7323.1835   1.21e+04      0.604      0.546   -1.64e+04    3.11e+04\n",
       "ZipGroup[T.4]                 -1.527e+05   1.12e+04    -13.589      0.000   -1.75e+05   -1.31e+05\n",
       "PropertyType[T.Single Family]  1.322e+04   1.39e+04      0.949      0.343   -1.41e+04    4.05e+04\n",
       "PropertyType[T.Townhouse]      -5.86e+04   1.52e+04     -3.867      0.000   -8.83e+04   -2.89e+04\n",
       "SqFtTotLiving                   114.4857      4.867     23.521      0.000     104.945     124.026\n",
       "SqFtTotLiving:ZipGroup[T.1]      36.4813      5.488      6.648      0.000      25.725      47.237\n",
       "SqFtTotLiving:ZipGroup[T.2]      41.2295      5.364      7.686      0.000      30.716      51.743\n",
       "SqFtTotLiving:ZipGroup[T.3]      76.1137      5.584     13.630      0.000      65.168      87.059\n",
       "SqFtTotLiving:ZipGroup[T.4]     228.1176      4.825     47.280      0.000     218.661     237.575\n",
       "SqFtLot                           0.7172      0.052     13.859      0.000       0.616       0.819\n",
       "Bathrooms                     -5118.4136   3205.231     -1.597      0.110   -1.14e+04    1164.060\n",
       "Bedrooms                      -4.154e+04   2123.239    -19.566      0.000   -4.57e+04   -3.74e+04\n",
       "BldgGrade                      1.054e+05   2069.829     50.929      0.000    1.01e+05    1.09e+05\n",
       "==============================================================================\n",
       "Omnibus:                    30737.778   Durbin-Watson:                   1.583\n",
       "Prob(Omnibus):                  0.000   Jarque-Bera (JB):         33537624.445\n",
       "Skew:                           7.193   Prob(JB):                         0.00\n",
       "Kurtosis:                     190.807   Cond. No.                     5.80e+05\n",
       "==============================================================================\n",
       "\n",
       "Notes:\n",
       "[1] Standard Errors assume that the covariance matrix of the errors is correctly specified.\n",
       "[2] The condition number is large, 5.8e+05. This might indicate that there are\n",
       "strong multicollinearity or other numerical problems.\n",
       "\"\"\""
      ]
     },
     "execution_count": 141,
     "metadata": {},
     "output_type": "execute_result"
    }
   ],
   "source": [
    "import statsmodels.formula.api as smf\n",
    "\n",
    "model = smf.ols(formula='AdjSalePrice ~ SqFtTotLiving*ZipGroup + SqFtLot + Bathrooms \\\n",
    "                        + Bedrooms + BldgGrade + PropertyType', data=house)\n",
    "results = model.fit()\n",
    "results.summary()"
   ]
  },
  {
   "cell_type": "code",
   "execution_count": null,
   "id": "84511334",
   "metadata": {},
   "outputs": [],
   "source": []
  },
  {
   "cell_type": "markdown",
   "id": "85ed1de0",
   "metadata": {},
   "source": [
    "***4.6.1 특잇값***"
   ]
  },
  {
   "cell_type": "code",
   "execution_count": 162,
   "id": "7a2bbaa0",
   "metadata": {},
   "outputs": [
    {
     "name": "stdout",
     "output_type": "stream",
     "text": [
      "AdjSalePrice 119748.0\n",
      "SqFtTotLiving    2900\n",
      "SqFtLot          7276\n",
      "Bathrooms         3.0\n",
      "Bedrooms            6\n",
      "BldgGrade           7\n",
      "Name: 24333, dtype: object\n"
     ]
    }
   ],
   "source": [
    "# (표준화)잔차를 통하여 특잇값을 검출하는데 활용할 수 있음. \n",
    "import statsmodels.api as sm\n",
    "house_98105 = house.loc[house['ZipCode'] == 98105]\n",
    "\n",
    "predictors = ['SqFtTotLiving', 'SqFtLot', 'Bathrooms', 'Bedrooms', 'BldgGrade']\n",
    "outcome = 'AdjSalePrice'\n",
    "\n",
    "house_outlier = sm.OLS(house_98105[outcome], house_98105[predictors].assign(const=1))\n",
    "result_98105 = house_outlier.fit()\n",
    "\n",
    "# 잔차 분석을 위한 OLSInfluence메소드 사용\n",
    "from statsmodels.stats.outliers_influence import OLSInfluence\n",
    "influence = OLSInfluence(result_98105) # 위에서 fit한 모델을 가져옴. \n",
    "sresiduals = influence.resid_studentized_internal\n",
    "sresiduals.idxmin(), sresiduals.min()\n",
    "\n",
    "outlier = house_98105.loc[sresiduals.idxmin(), :] # 데이터 프레임에 인덱스를 찍어서 활용하는 것으로 보임. \n",
    "print('AdjSalePrice', outlier[outcome])\n",
    "print(outlier[predictors])"
   ]
  },
  {
   "cell_type": "markdown",
   "id": "dd538610",
   "metadata": {},
   "source": [
    "***영향값***"
   ]
  },
  {
   "cell_type": "code",
   "execution_count": 155,
   "id": "ef579bb2",
   "metadata": {},
   "outputs": [
    {
     "data": {
      "text/plain": [
       "Text(0, 0.5, 'studentized residuals')"
      ]
     },
     "execution_count": 155,
     "metadata": {},
     "output_type": "execute_result"
    },
    {
     "data": {
      "image/png": "[encoded data removed]",
      "text/plain": [
       "<Figure size 500x500 with 1 Axes>"
      ]
     },
     "metadata": {},
     "output_type": "display_data"
    }
   ],
   "source": [
    "import matplotlib.pyplot as plt\n",
    "import seaborn as sns\n",
    "%matplotlib inline\n",
    "\n",
    "# 표준화 잔차, 햇 값, 쿸의 거리를 모두 보여주는 그래프\n",
    "\n",
    "\n",
    "influence = OLSInfluence(result_98105) # 회귀에 fit한 결과를 넣어줌\n",
    "fig, ax = plt.subplots(figsize=(5,5))\n",
    "ax.axhline(-2.5, linestyle='--', color='C1')\n",
    "ax.axhline(2.5, linestyle='--', color='C1')\n",
    "\n",
    "ax.scatter(influence.hat_matrix_diag, influence.resid_studentized_internal,\n",
    "           s=1000*np.sqrt(influence.cooks_distance[0]),\n",
    "           alpha=.5)\n",
    "ax.set_xlabel('hat values')\n",
    "ax.set_ylabel('studentized residuals')"
   ]
  },
  {
   "cell_type": "code",
   "execution_count": null,
   "id": "12b6b8ee",
   "metadata": {},
   "outputs": [],
   "source": []
  },
  {
   "cell_type": "code",
   "execution_count": null,
   "id": "02efc86d",
   "metadata": {},
   "outputs": [],
   "source": []
  },
  {
   "cell_type": "markdown",
   "id": "484396af",
   "metadata": {},
   "source": [
    "***4.6.3 이분산성, 비정규성, 오차 간 상관***"
   ]
  },
  {
   "cell_type": "code",
   "execution_count": 160,
   "id": "54e51cc2",
   "metadata": {},
   "outputs": [
    {
     "data": {
      "text/plain": [
       "Text(0, 0.5, 'abs(residual)')"
      ]
     },
     "execution_count": 160,
     "metadata": {},
     "output_type": "execute_result"
    },
    {
     "data": {
      "image/png": "[encoded data removed]",
      "text/plain": [
       "<Figure size 500x500 with 1 Axes>"
      ]
     },
     "metadata": {},
     "output_type": "display_data"
    }
   ],
   "source": [
    "# 이분산성\n",
    "# 잔차의 절댓값과 예측값에 대한 산점도 \n",
    "# 데이터 과학자가 알아야 하는 이유?\n",
    "# 이분상성은 예측값이 어떤 경우에는 맞고 어떤 경우에는 틀리다는 것을 나타냄, 얻은 모델이 불완전하다는 것을 알려줌\n",
    "# 여기서의 그래프는 잔차의 분산은 저가, 고가의 주택일수록 증가하는 경향이 있음 ==> 이분산성의 오차. \n",
    "\n",
    "fig, ax = plt.subplots(figsize=(5,5))\n",
    "sns.regplot(\n",
    "    x = result_98105.fittedvalues, y = np.abs(result_98105.resid),\n",
    "    scatter_kws = {'alpha':.25}, line_kws = {'color':'C1'},\n",
    "    lowess=True, ax=ax\n",
    ")\n",
    "ax.set_xlabel('predicted')\n",
    "ax.set_ylabel('abs(residual)')"
   ]
  },
  {
   "cell_type": "markdown",
   "id": "e432732e",
   "metadata": {},
   "source": [
    "***4.6.4 편잔차 그림과 비선형성***"
   ]
  },
  {
   "cell_type": "code",
   "execution_count": 164,
   "id": "3980ea51",
   "metadata": {},
   "outputs": [
    {
     "data": {
      "image/png": "[encoded data removed]",
      "text/plain": [
       "<Figure size 640x480 with 1 Axes>"
      ]
     },
     "execution_count": 164,
     "metadata": {},
     "output_type": "execute_result"
    },
    {
     "data": {
      "image/png": "[encoded data removed]",
      "text/plain": [
       "<Figure size 640x480 with 1 Axes>"
      ]
     },
     "metadata": {},
     "output_type": "display_data"
    }
   ],
   "source": [
    "# 편잔차그림은 예측 모델이 예측변수와 결과변수 간의 관계를 얼마나 잘 설명하는지를 시각화하는 그림\n",
    "import statsmodels.api as sm\n",
    "sm.graphics.plot_ccpr(result_98105, 'SqFtTotLiving')"
   ]
  },
  {
   "cell_type": "code",
   "execution_count": null,
   "id": "51da2453",
   "metadata": {},
   "outputs": [],
   "source": []
  },
  {
   "cell_type": "code",
   "execution_count": null,
   "id": "2333a539",
   "metadata": {},
   "outputs": [],
   "source": []
  },
  {
   "cell_type": "code",
   "execution_count": null,
   "id": "1d50e018",
   "metadata": {},
   "outputs": [],
   "source": []
  },
  {
   "cell_type": "code",
   "execution_count": null,
   "id": "4693ab07",
   "metadata": {},
   "outputs": [],
   "source": []
  },
  {
   "cell_type": "code",
   "execution_count": null,
   "id": "acfebbb9",
   "metadata": {},
   "outputs": [],
   "source": []
  },
  {
   "cell_type": "code",
   "execution_count": null,
   "id": "06999ae3",
   "metadata": {},
   "outputs": [],
   "source": []
  },
  {
   "cell_type": "code",
   "execution_count": null,
   "id": "cbf1cb6d",
   "metadata": {},
   "outputs": [],
   "source": []
  },
  {
   "cell_type": "code",
   "execution_count": null,
   "id": "a37c4df0",
   "metadata": {},
   "outputs": [],
   "source": []
  },
  {
   "cell_type": "code",
   "execution_count": null,
   "id": "565f185a",
   "metadata": {},
   "outputs": [],
   "source": []
  },
  {
   "cell_type": "code",
   "execution_count": null,
   "id": "038da579",
   "metadata": {},
   "outputs": [],
   "source": []
  },
  {
   "cell_type": "code",
   "execution_count": null,
   "id": "af0d039c",
   "metadata": {},
   "outputs": [],
   "source": []
  },
  {
   "cell_type": "code",
   "execution_count": null,
   "id": "cb57d302",
   "metadata": {},
   "outputs": [],
   "source": []
  },
  {
   "cell_type": "code",
   "execution_count": null,
   "id": "7b541a0e",
   "metadata": {},
   "outputs": [],
   "source": []
  },
  {
   "cell_type": "code",
   "execution_count": null,
   "id": "b62159b0",
   "metadata": {},
   "outputs": [],
   "source": []
  },
  {
   "cell_type": "code",
   "execution_count": null,
   "id": "c832fbf1",
   "metadata": {},
   "outputs": [],
   "source": []
  },
  {
   "cell_type": "code",
   "execution_count": null,
   "id": "2dbb7bd6",
   "metadata": {},
   "outputs": [],
   "source": []
  },
  {
   "cell_type": "code",
   "execution_count": null,
   "id": "76d94413",
   "metadata": {},
   "outputs": [],
   "source": []
  },
  {
   "cell_type": "code",
   "execution_count": null,
   "id": "940506aa",
   "metadata": {},
   "outputs": [],
   "source": []
  },
  {
   "cell_type": "code",
   "execution_count": null,
   "id": "c6d9ec53",
   "metadata": {},
   "outputs": [],
   "source": []
  },
  {
   "cell_type": "code",
   "execution_count": null,
   "id": "9f466108",
   "metadata": {},
   "outputs": [],
   "source": []
  },
  {
   "cell_type": "code",
   "execution_count": null,
   "id": "f15c1bbf",
   "metadata": {},
   "outputs": [],
   "source": []
  },
  {
   "cell_type": "code",
   "execution_count": null,
   "id": "f20aea91",
   "metadata": {},
   "outputs": [],
   "source": []
  },
  {
   "cell_type": "code",
   "execution_count": null,
   "id": "c92b3449",
   "metadata": {},
   "outputs": [],
   "source": []
  },
  {
   "cell_type": "code",
   "execution_count": null,
   "id": "eac00bdb",
   "metadata": {},
   "outputs": [],
   "source": []
  },
  {
   "cell_type": "code",
   "execution_count": null,
   "id": "0c54a6dd",
   "metadata": {},
   "outputs": [],
   "source": []
  },
  {
   "cell_type": "code",
   "execution_count": null,
   "id": "3e51b799",
   "metadata": {},
   "outputs": [],
   "source": []
  },
  {
   "cell_type": "code",
   "execution_count": null,
   "id": "c9eb9b2a",
   "metadata": {},
   "outputs": [],
   "source": []
  },
  {
   "cell_type": "code",
   "execution_count": null,
   "id": "0e7008e5",
   "metadata": {},
   "outputs": [],
   "source": []
  },
  {
   "cell_type": "code",
   "execution_count": null,
   "id": "a65bc499",
   "metadata": {},
   "outputs": [],
   "source": []
  },
  {
   "cell_type": "code",
   "execution_count": null,
   "id": "9521c819",
   "metadata": {},
   "outputs": [],
   "source": []
  },
  {
   "cell_type": "code",
   "execution_count": null,
   "id": "0baab38d",
   "metadata": {},
   "outputs": [],
   "source": []
  },
  {
   "cell_type": "code",
   "execution_count": null,
   "id": "1574ec59",
   "metadata": {},
   "outputs": [],
   "source": []
  },
  {
   "cell_type": "code",
   "execution_count": null,
   "id": "6f183a90",
   "metadata": {},
   "outputs": [],
   "source": []
  },
  {
   "cell_type": "code",
   "execution_count": null,
   "id": "c8651f5e",
   "metadata": {},
   "outputs": [],
   "source": []
  }
 ],
 "metadata": {
  "kernelspec": {
   "display_name": "Python 3 (ipykernel)",
   "language": "python",
   "name": "python3"
  },
  "language_info": {
   "codemirror_mode": {
    "name": "ipython",
    "version": 3
   },
   "file_extension": ".py",
   "mimetype": "text/x-python",
   "name": "python",
   "nbconvert_exporter": "python",
   "pygments_lexer": "ipython3",
   "version": "3.9.16"
  },
  "toc": {
   "base_numbering": 1,
   "nav_menu": {},
   "number_sections": true,
   "sideBar": true,
   "skip_h1_title": false,
   "title_cell": "Table of Contents",
   "title_sidebar": "Contents",
   "toc_cell": false,
   "toc_position": {},
   "toc_section_display": true,
   "toc_window_display": false
  },
  "varInspector": {
   "cols": {
    "lenName": 16,
    "lenType": 16,
    "lenVar": 40
   },
   "kernels_config": {
    "python": {
     "delete_cmd_postfix": "",
     "delete_cmd_prefix": "del ",
     "library": "var_list.py",
     "varRefreshCmd": "print(var_dic_list())"
    },
    "r": {
     "delete_cmd_postfix": ") ",
     "delete_cmd_prefix": "rm(",
     "library": "var_list.r",
     "varRefreshCmd": "cat(var_dic_list()) "
    }
   },
   "types_to_exclude": [
    "module",
    "function",
    "builtin_function_or_method",
    "instance",
    "_Feature"
   ],
   "window_display": false
  }
 },
 "nbformat": 4,
 "nbformat_minor": 5
}
